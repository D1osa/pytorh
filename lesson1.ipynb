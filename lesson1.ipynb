{
  "nbformat": 4,
  "nbformat_minor": 0,
  "metadata": {
    "colab": {
      "provenance": []
    },
    "kernelspec": {
      "name": "python3",
      "display_name": "Python 3"
    },
    "language_info": {
      "name": "python"
    }
  },
  "cells": [
    {
      "cell_type": "code",
      "source": [
        "import torch\n",
        "import numpy as np"
      ],
      "metadata": {
        "id": "fsxLtkg3E0_A"
      },
      "execution_count": 12,
      "outputs": []
    },
    {
      "cell_type": "markdown",
      "source": [
        "Создайте случайный FloatTensor размера 3x4x5"
      ],
      "metadata": {
        "id": "sIZk7m7uE-kS"
      }
    },
    {
      "cell_type": "code",
      "source": [
        "tsr = torch.FloatTensor(3,4,5)\n",
        "tsr"
      ],
      "metadata": {
        "colab": {
          "base_uri": "https://localhost:8080/"
        },
        "id": "TaKkBXrqE1B1",
        "outputId": "f9d31142-bf32-4fc4-edf9-5309597bb50c"
      },
      "execution_count": 13,
      "outputs": [
        {
          "output_type": "execute_result",
          "data": {
            "text/plain": [
              "tensor([[[2.5959e-36, 0.0000e+00, 2.9427e-43, 0.0000e+00, 0.0000e+00],\n",
              "         [0.0000e+00, 0.0000e+00, 0.0000e+00, 0.0000e+00, 0.0000e+00],\n",
              "         [1.8788e+31, 1.7220e+22, 2.1715e-18, 3.3980e+21, 1.6613e-07],\n",
              "         [2.6804e-09, 2.1888e+23, 1.6874e-07, 6.7061e+22, 4.1912e+21]],\n",
              "\n",
              "        [[6.7644e+22, 1.0499e-08, 1.4580e-19, 1.1495e+24, 3.0881e+29],\n",
              "         [1.5766e-19, 4.6304e+27, 7.2707e+31, 7.1536e+22, 3.3803e-18],\n",
              "         [2.0552e+32, 1.8755e+28, 3.1093e-18, 2.0552e+32, 1.8755e+28],\n",
              "         [3.1093e-18, 1.2845e+31, 1.8395e+25, 6.1963e-04, 8.4241e-07]],\n",
              "\n",
              "        [[8.3650e+20, 1.0082e-08, 5.3183e+22, 6.7448e-10, 2.6852e-06],\n",
              "         [1.6708e-07, 6.7444e-10, 3.0547e-18, 1.1963e+22, 3.1097e-18],\n",
              "         [9.4370e-09, 1.0129e-11, 6.3008e-10, 1.6515e-07, 6.7598e-04],\n",
              "         [2.5957e-06, 1.0432e-08, 2.3072e-12, 7.2646e+22, 7.2250e+28]]])"
            ]
          },
          "metadata": {},
          "execution_count": 13
        }
      ]
    },
    {
      "cell_type": "markdown",
      "source": [
        "Выведите его форму (shape)"
      ],
      "metadata": {
        "id": "aEg74CTYFuQT"
      }
    },
    {
      "cell_type": "code",
      "source": [
        "tsr.shape"
      ],
      "metadata": {
        "colab": {
          "base_uri": "https://localhost:8080/"
        },
        "id": "o-KtyULMGMD1",
        "outputId": "e92bdf91-5be0-440b-8904-01d2a614e4bc"
      },
      "execution_count": 14,
      "outputs": [
        {
          "output_type": "execute_result",
          "data": {
            "text/plain": [
              "torch.Size([3, 4, 5])"
            ]
          },
          "metadata": {},
          "execution_count": 14
        }
      ]
    },
    {
      "cell_type": "markdown",
      "source": [
        "Приведите его к форме 6 X 10"
      ],
      "metadata": {
        "id": "Ci6xOBxtFu2F"
      }
    },
    {
      "cell_type": "code",
      "source": [
        "tsr1 = tsr.reshape(6, 10)\n",
        "tsr1"
      ],
      "metadata": {
        "colab": {
          "base_uri": "https://localhost:8080/"
        },
        "id": "IaAqyASAFvAe",
        "outputId": "0f3b13d7-496e-46d6-e3eb-04d017dcb3d5"
      },
      "execution_count": 15,
      "outputs": [
        {
          "output_type": "execute_result",
          "data": {
            "text/plain": [
              "tensor([[2.5959e-36, 0.0000e+00, 2.9427e-43, 0.0000e+00, 0.0000e+00, 0.0000e+00,\n",
              "         0.0000e+00, 0.0000e+00, 0.0000e+00, 0.0000e+00],\n",
              "        [1.8788e+31, 1.7220e+22, 2.1715e-18, 3.3980e+21, 1.6613e-07, 2.6804e-09,\n",
              "         2.1888e+23, 1.6874e-07, 6.7061e+22, 4.1912e+21],\n",
              "        [6.7644e+22, 1.0499e-08, 1.4580e-19, 1.1495e+24, 3.0881e+29, 1.5766e-19,\n",
              "         4.6304e+27, 7.2707e+31, 7.1536e+22, 3.3803e-18],\n",
              "        [2.0552e+32, 1.8755e+28, 3.1093e-18, 2.0552e+32, 1.8755e+28, 3.1093e-18,\n",
              "         1.2845e+31, 1.8395e+25, 6.1963e-04, 8.4241e-07],\n",
              "        [8.3650e+20, 1.0082e-08, 5.3183e+22, 6.7448e-10, 2.6852e-06, 1.6708e-07,\n",
              "         6.7444e-10, 3.0547e-18, 1.1963e+22, 3.1097e-18],\n",
              "        [9.4370e-09, 1.0129e-11, 6.3008e-10, 1.6515e-07, 6.7598e-04, 2.5957e-06,\n",
              "         1.0432e-08, 2.3072e-12, 7.2646e+22, 7.2250e+28]])"
            ]
          },
          "metadata": {},
          "execution_count": 15
        }
      ]
    },
    {
      "cell_type": "markdown",
      "source": [
        "Умножьте его на вектор [1, 4, 2, 2, 1] поэлементно"
      ],
      "metadata": {
        "id": "4lrv4B8TFvML"
      }
    },
    {
      "cell_type": "code",
      "source": [
        "b = np.array([1, 4, 2, 2, 1])\n",
        "c = tsr @ b\n",
        "c"
      ],
      "metadata": {
        "colab": {
          "base_uri": "https://localhost:8080/"
        },
        "id": "8lHctNr6FvVj",
        "outputId": "04997fa9-8ce1-47a3-9a57-21c87a850363"
      },
      "execution_count": 33,
      "outputs": [
        {
          "output_type": "execute_result",
          "data": {
            "text/plain": [
              "tensor([[2.5959e-36, 0.0000e+00, 1.8788e+31, 1.0138e+24],\n",
              "        [3.0881e+29, 1.4543e+32, 6.1665e+32, 5.1380e+31],\n",
              "        [1.0720e+23, 2.3926e+22, 6.7632e-04, 7.2250e+28]], dtype=torch.float64)"
            ]
          },
          "metadata": {},
          "execution_count": 33
        }
      ]
    },
    {
      "cell_type": "markdown",
      "source": [
        "Умножьте тензор матрично на себя, чтобы результат был размерности 6x6"
      ],
      "metadata": {
        "id": "rC2CMJweRiq-"
      }
    },
    {
      "cell_type": "code",
      "source": [
        "tsr2 = tsr1 @ tsr1.T\n",
        "print(tsr2)\n",
        "tsr2.shape"
      ],
      "metadata": {
        "colab": {
          "base_uri": "https://localhost:8080/"
        },
        "id": "GZziGdEJRlnP",
        "outputId": "33e8ae75-fc1a-4e48-fb73-9f9820eaf2d1"
      },
      "execution_count": 24,
      "outputs": [
        {
          "output_type": "stream",
          "name": "stdout",
          "text": [
            "tensor([[0.0000e+00, 4.8771e-05, 1.7560e-13, 5.3351e-04, 2.1715e-15, 2.3822e-44],\n",
            "        [4.8771e-05,        inf,        inf,        inf,        inf,        inf],\n",
            "        [1.7560e-13,        inf,        inf,        inf,        inf,        inf],\n",
            "        [5.3351e-04,        inf,        inf,        inf,        inf, 4.8754e+25],\n",
            "        [2.1715e-15,        inf,        inf,        inf,        inf,        inf],\n",
            "        [2.3822e-44,        inf,        inf, 4.8754e+25,        inf,        inf]])\n"
          ]
        },
        {
          "output_type": "execute_result",
          "data": {
            "text/plain": [
              "torch.Size([6, 6])"
            ]
          },
          "metadata": {},
          "execution_count": 24
        }
      ]
    },
    {
      "cell_type": "markdown",
      "source": [
        "Посчитайте производную функции y = x**3 + z - 75t в точке (1, 0.5, 2)"
      ],
      "metadata": {
        "id": "iEC4pZdgRl0E"
      }
    },
    {
      "cell_type": "code",
      "source": [
        "xzt = torch.Tensor([1, 0.5, 2])\n",
        "xzt.requires_grad = True\n",
        "y = xzt[0]**3 + xzt[1] - 75 * xzt[2]"
      ],
      "metadata": {
        "id": "oRbi9Os6Rl-s"
      },
      "execution_count": 26,
      "outputs": []
    },
    {
      "cell_type": "code",
      "source": [
        "y.backward()\n",
        "xzt.grad"
      ],
      "metadata": {
        "colab": {
          "base_uri": "https://localhost:8080/"
        },
        "id": "4ktfpsVCUtxS",
        "outputId": "49a27e2c-19e3-48b6-bffc-9810a550b213"
      },
      "execution_count": 27,
      "outputs": [
        {
          "output_type": "execute_result",
          "data": {
            "text/plain": [
              "tensor([  3.,   1., -75.])"
            ]
          },
          "metadata": {},
          "execution_count": 27
        }
      ]
    },
    {
      "cell_type": "markdown",
      "source": [
        "Создайте единичный тензор размера 5x6"
      ],
      "metadata": {
        "id": "Km9N5QM3RmIm"
      }
    },
    {
      "cell_type": "code",
      "source": [
        "tsr3 = torch.ones(5, 6)\n",
        "tsr3"
      ],
      "metadata": {
        "colab": {
          "base_uri": "https://localhost:8080/"
        },
        "id": "9OWeVdc0RmRs",
        "outputId": "76295ba3-eeae-43fc-d153-6a2bfec4d9f1"
      },
      "execution_count": 28,
      "outputs": [
        {
          "output_type": "execute_result",
          "data": {
            "text/plain": [
              "tensor([[1., 1., 1., 1., 1., 1.],\n",
              "        [1., 1., 1., 1., 1., 1.],\n",
              "        [1., 1., 1., 1., 1., 1.],\n",
              "        [1., 1., 1., 1., 1., 1.],\n",
              "        [1., 1., 1., 1., 1., 1.]])"
            ]
          },
          "metadata": {},
          "execution_count": 28
        }
      ]
    },
    {
      "cell_type": "markdown",
      "source": [
        "Переведите его в формат numpy"
      ],
      "metadata": {
        "id": "Cmhsk-fuRmaA"
      }
    },
    {
      "cell_type": "code",
      "source": [
        "tsr3.numpy()"
      ],
      "metadata": {
        "colab": {
          "base_uri": "https://localhost:8080/"
        },
        "id": "hRk6Dc39RmnA",
        "outputId": "775f2b4e-9cd2-42fb-b3c8-4cad80e4552d"
      },
      "execution_count": 29,
      "outputs": [
        {
          "output_type": "execute_result",
          "data": {
            "text/plain": [
              "array([[1., 1., 1., 1., 1., 1.],\n",
              "       [1., 1., 1., 1., 1., 1.],\n",
              "       [1., 1., 1., 1., 1., 1.],\n",
              "       [1., 1., 1., 1., 1., 1.],\n",
              "       [1., 1., 1., 1., 1., 1.]], dtype=float32)"
            ]
          },
          "metadata": {},
          "execution_count": 29
        }
      ]
    },
    {
      "cell_type": "markdown",
      "source": [
        "Давайте теперь пооптимизируем: возьмите функцию y = x**w1 - 2 * x**2 + 5\n",
        "Посчитайте "
      ],
      "metadata": {
        "id": "X093GHMDRmvG"
      }
    },
    {
      "cell_type": "code",
      "source": [
        "tsr3.grad\n",
        "w1 = torch.tensor([0.417], requires_grad=True)\n",
        "y = tsr3*w1 - 2 * tsr3 ** 2 + 5\n",
        "y.backward(tsr3)\n",
        "print(y)"
      ],
      "metadata": {
        "colab": {
          "base_uri": "https://localhost:8080/"
        },
        "id": "w4diGM_lRzBE",
        "outputId": "17a4c46a-67ca-4b07-c031-32c917404139"
      },
      "execution_count": 38,
      "outputs": [
        {
          "output_type": "stream",
          "name": "stdout",
          "text": [
            "tensor([[3.4170, 3.4170, 3.4170, 3.4170, 3.4170, 3.4170],\n",
            "        [3.4170, 3.4170, 3.4170, 3.4170, 3.4170, 3.4170],\n",
            "        [3.4170, 3.4170, 3.4170, 3.4170, 3.4170, 3.4170],\n",
            "        [3.4170, 3.4170, 3.4170, 3.4170, 3.4170, 3.4170],\n",
            "        [3.4170, 3.4170, 3.4170, 3.4170, 3.4170, 3.4170]],\n",
            "       grad_fn=<AddBackward0>)\n"
          ]
        }
      ]
    }
  ]
}