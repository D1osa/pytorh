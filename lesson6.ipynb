{
  "nbformat": 4,
  "nbformat_minor": 0,
  "metadata": {
    "colab": {
      "provenance": []
    },
    "kernelspec": {
      "name": "python3",
      "display_name": "Python 3"
    },
    "language_info": {
      "name": "python"
    },
    "accelerator": "GPU",
    "gpuClass": "standard"
  },
  "cells": [
    {
      "cell_type": "code",
      "source": [
        "import nltk\n",
        "from nltk.corpus import stopwords\n",
        "from nltk.probability import FreqDist\n",
        "from nltk.stem import WordNetLemmatizer\n",
        "from nltk.tokenize import word_tokenize\n",
        "import numpy as np\n",
        "import pandas as pd\n",
        "from sklearn.model_selection import train_test_split\n",
        "from string import punctuation\n",
        "import torch\n",
        "import torch.nn as nn\n",
        "from torch.utils.data import DataLoader, Dataset\n",
        "from torchsummary import summary\n",
        "from tqdm import tqdm"
      ],
      "metadata": {
        "id": "2u-iZnfMr8D9"
      },
      "execution_count": 1,
      "outputs": []
    },
    {
      "cell_type": "code",
      "source": [
        "RANDOM_STATE = 29"
      ],
      "metadata": {
        "id": "HGtSkglDr8Gz"
      },
      "execution_count": 2,
      "outputs": []
    },
    {
      "cell_type": "code",
      "source": [
        "df_train = pd.read_csv('/content/train.csv', index_col='id')\n",
        "print(df_train.shape)\n",
        "df_train.head()"
      ],
      "metadata": {
        "colab": {
          "base_uri": "https://localhost:8080/",
          "height": 256
        },
        "id": "HRNiJi1_r8Jp",
        "outputId": "447fe5f0-aca7-4e11-f6e7-69584c74e281"
      },
      "execution_count": 3,
      "outputs": [
        {
          "output_type": "stream",
          "name": "stdout",
          "text": [
            "(31962, 2)\n"
          ]
        },
        {
          "output_type": "execute_result",
          "data": {
            "text/plain": [
              "    label                                              tweet\n",
              "id                                                          \n",
              "1       0   @user when a father is dysfunctional and is s...\n",
              "2       0  @user @user thanks for #lyft credit i can't us...\n",
              "3       0                                bihday your majesty\n",
              "4       0  #model   i love u take with u all the time in ...\n",
              "5       0             factsguide: society now    #motivation"
            ],
            "text/html": [
              "\n",
              "  <div id=\"df-04149277-9330-4064-841c-dc1b0b13c0b7\">\n",
              "    <div class=\"colab-df-container\">\n",
              "      <div>\n",
              "<style scoped>\n",
              "    .dataframe tbody tr th:only-of-type {\n",
              "        vertical-align: middle;\n",
              "    }\n",
              "\n",
              "    .dataframe tbody tr th {\n",
              "        vertical-align: top;\n",
              "    }\n",
              "\n",
              "    .dataframe thead th {\n",
              "        text-align: right;\n",
              "    }\n",
              "</style>\n",
              "<table border=\"1\" class=\"dataframe\">\n",
              "  <thead>\n",
              "    <tr style=\"text-align: right;\">\n",
              "      <th></th>\n",
              "      <th>label</th>\n",
              "      <th>tweet</th>\n",
              "    </tr>\n",
              "    <tr>\n",
              "      <th>id</th>\n",
              "      <th></th>\n",
              "      <th></th>\n",
              "    </tr>\n",
              "  </thead>\n",
              "  <tbody>\n",
              "    <tr>\n",
              "      <th>1</th>\n",
              "      <td>0</td>\n",
              "      <td>@user when a father is dysfunctional and is s...</td>\n",
              "    </tr>\n",
              "    <tr>\n",
              "      <th>2</th>\n",
              "      <td>0</td>\n",
              "      <td>@user @user thanks for #lyft credit i can't us...</td>\n",
              "    </tr>\n",
              "    <tr>\n",
              "      <th>3</th>\n",
              "      <td>0</td>\n",
              "      <td>bihday your majesty</td>\n",
              "    </tr>\n",
              "    <tr>\n",
              "      <th>4</th>\n",
              "      <td>0</td>\n",
              "      <td>#model   i love u take with u all the time in ...</td>\n",
              "    </tr>\n",
              "    <tr>\n",
              "      <th>5</th>\n",
              "      <td>0</td>\n",
              "      <td>factsguide: society now    #motivation</td>\n",
              "    </tr>\n",
              "  </tbody>\n",
              "</table>\n",
              "</div>\n",
              "      <button class=\"colab-df-convert\" onclick=\"convertToInteractive('df-04149277-9330-4064-841c-dc1b0b13c0b7')\"\n",
              "              title=\"Convert this dataframe to an interactive table.\"\n",
              "              style=\"display:none;\">\n",
              "        \n",
              "  <svg xmlns=\"http://www.w3.org/2000/svg\" height=\"24px\"viewBox=\"0 0 24 24\"\n",
              "       width=\"24px\">\n",
              "    <path d=\"M0 0h24v24H0V0z\" fill=\"none\"/>\n",
              "    <path d=\"M18.56 5.44l.94 2.06.94-2.06 2.06-.94-2.06-.94-.94-2.06-.94 2.06-2.06.94zm-11 1L8.5 8.5l.94-2.06 2.06-.94-2.06-.94L8.5 2.5l-.94 2.06-2.06.94zm10 10l.94 2.06.94-2.06 2.06-.94-2.06-.94-.94-2.06-.94 2.06-2.06.94z\"/><path d=\"M17.41 7.96l-1.37-1.37c-.4-.4-.92-.59-1.43-.59-.52 0-1.04.2-1.43.59L10.3 9.45l-7.72 7.72c-.78.78-.78 2.05 0 2.83L4 21.41c.39.39.9.59 1.41.59.51 0 1.02-.2 1.41-.59l7.78-7.78 2.81-2.81c.8-.78.8-2.07 0-2.86zM5.41 20L4 18.59l7.72-7.72 1.47 1.35L5.41 20z\"/>\n",
              "  </svg>\n",
              "      </button>\n",
              "      \n",
              "  <style>\n",
              "    .colab-df-container {\n",
              "      display:flex;\n",
              "      flex-wrap:wrap;\n",
              "      gap: 12px;\n",
              "    }\n",
              "\n",
              "    .colab-df-convert {\n",
              "      background-color: #E8F0FE;\n",
              "      border: none;\n",
              "      border-radius: 50%;\n",
              "      cursor: pointer;\n",
              "      display: none;\n",
              "      fill: #1967D2;\n",
              "      height: 32px;\n",
              "      padding: 0 0 0 0;\n",
              "      width: 32px;\n",
              "    }\n",
              "\n",
              "    .colab-df-convert:hover {\n",
              "      background-color: #E2EBFA;\n",
              "      box-shadow: 0px 1px 2px rgba(60, 64, 67, 0.3), 0px 1px 3px 1px rgba(60, 64, 67, 0.15);\n",
              "      fill: #174EA6;\n",
              "    }\n",
              "\n",
              "    [theme=dark] .colab-df-convert {\n",
              "      background-color: #3B4455;\n",
              "      fill: #D2E3FC;\n",
              "    }\n",
              "\n",
              "    [theme=dark] .colab-df-convert:hover {\n",
              "      background-color: #434B5C;\n",
              "      box-shadow: 0px 1px 3px 1px rgba(0, 0, 0, 0.15);\n",
              "      filter: drop-shadow(0px 1px 2px rgba(0, 0, 0, 0.3));\n",
              "      fill: #FFFFFF;\n",
              "    }\n",
              "  </style>\n",
              "\n",
              "      <script>\n",
              "        const buttonEl =\n",
              "          document.querySelector('#df-04149277-9330-4064-841c-dc1b0b13c0b7 button.colab-df-convert');\n",
              "        buttonEl.style.display =\n",
              "          google.colab.kernel.accessAllowed ? 'block' : 'none';\n",
              "\n",
              "        async function convertToInteractive(key) {\n",
              "          const element = document.querySelector('#df-04149277-9330-4064-841c-dc1b0b13c0b7');\n",
              "          const dataTable =\n",
              "            await google.colab.kernel.invokeFunction('convertToInteractive',\n",
              "                                                     [key], {});\n",
              "          if (!dataTable) return;\n",
              "\n",
              "          const docLinkHtml = 'Like what you see? Visit the ' +\n",
              "            '<a target=\"_blank\" href=https://colab.research.google.com/notebooks/data_table.ipynb>data table notebook</a>'\n",
              "            + ' to learn more about interactive tables.';\n",
              "          element.innerHTML = '';\n",
              "          dataTable['output_type'] = 'display_data';\n",
              "          await google.colab.output.renderOutput(dataTable, element);\n",
              "          const docLink = document.createElement('div');\n",
              "          docLink.innerHTML = docLinkHtml;\n",
              "          element.appendChild(docLink);\n",
              "        }\n",
              "      </script>\n",
              "    </div>\n",
              "  </div>\n",
              "  "
            ]
          },
          "metadata": {},
          "execution_count": 3
        }
      ]
    },
    {
      "cell_type": "markdown",
      "source": [
        "Описание датасета:\n",
        "The objective of this task is to detect hate speech in tweets.\n",
        "For the sake of simplicity, we say a tweet contains hate speech\n",
        "if it has a racist or sexist sentiment associated with it.\n",
        "So, the task is to classify racist or sexist tweets from other tweets.\n",
        "\n",
        "Formally, given a training sample of tweets and labels, where label '1'\n",
        "denotes the tweet is racist/sexist and label '0' denotes the tweet is\n",
        "not racist/sexist, your objective is to predict the labels on the test dataset.\n",
        "\n",
        "Таким образом, нам нужно будет искать твиты, которые содержат\n",
        "расистский или сексистский смысл."
      ],
      "metadata": {
        "id": "O3g2H0yotV4e"
      }
    },
    {
      "cell_type": "code",
      "source": [
        "df_test = pd.read_csv('/content/test.csv', index_col='id')\n",
        "print(df_test.shape)\n",
        "df_test.head()"
      ],
      "metadata": {
        "colab": {
          "base_uri": "https://localhost:8080/",
          "height": 256
        },
        "id": "wBAEUuDZr8Nz",
        "outputId": "1adebdd8-e5e4-412e-835f-b7e88b11a2d6"
      },
      "execution_count": 4,
      "outputs": [
        {
          "output_type": "stream",
          "name": "stdout",
          "text": [
            "(17197, 1)\n"
          ]
        },
        {
          "output_type": "execute_result",
          "data": {
            "text/plain": [
              "                                                   tweet\n",
              "id                                                      \n",
              "31963  #studiolife #aislife #requires #passion #dedic...\n",
              "31964   @user #white #supremacists want everyone to s...\n",
              "31965  safe ways to heal your #acne!!    #altwaystohe...\n",
              "31966  is the hp and the cursed child book up for res...\n",
              "31967    3rd #bihday to my amazing, hilarious #nephew..."
            ],
            "text/html": [
              "\n",
              "  <div id=\"df-a9d2b476-c4b3-4cc1-8eb5-f65da53ed5df\">\n",
              "    <div class=\"colab-df-container\">\n",
              "      <div>\n",
              "<style scoped>\n",
              "    .dataframe tbody tr th:only-of-type {\n",
              "        vertical-align: middle;\n",
              "    }\n",
              "\n",
              "    .dataframe tbody tr th {\n",
              "        vertical-align: top;\n",
              "    }\n",
              "\n",
              "    .dataframe thead th {\n",
              "        text-align: right;\n",
              "    }\n",
              "</style>\n",
              "<table border=\"1\" class=\"dataframe\">\n",
              "  <thead>\n",
              "    <tr style=\"text-align: right;\">\n",
              "      <th></th>\n",
              "      <th>tweet</th>\n",
              "    </tr>\n",
              "    <tr>\n",
              "      <th>id</th>\n",
              "      <th></th>\n",
              "    </tr>\n",
              "  </thead>\n",
              "  <tbody>\n",
              "    <tr>\n",
              "      <th>31963</th>\n",
              "      <td>#studiolife #aislife #requires #passion #dedic...</td>\n",
              "    </tr>\n",
              "    <tr>\n",
              "      <th>31964</th>\n",
              "      <td>@user #white #supremacists want everyone to s...</td>\n",
              "    </tr>\n",
              "    <tr>\n",
              "      <th>31965</th>\n",
              "      <td>safe ways to heal your #acne!!    #altwaystohe...</td>\n",
              "    </tr>\n",
              "    <tr>\n",
              "      <th>31966</th>\n",
              "      <td>is the hp and the cursed child book up for res...</td>\n",
              "    </tr>\n",
              "    <tr>\n",
              "      <th>31967</th>\n",
              "      <td>3rd #bihday to my amazing, hilarious #nephew...</td>\n",
              "    </tr>\n",
              "  </tbody>\n",
              "</table>\n",
              "</div>\n",
              "      <button class=\"colab-df-convert\" onclick=\"convertToInteractive('df-a9d2b476-c4b3-4cc1-8eb5-f65da53ed5df')\"\n",
              "              title=\"Convert this dataframe to an interactive table.\"\n",
              "              style=\"display:none;\">\n",
              "        \n",
              "  <svg xmlns=\"http://www.w3.org/2000/svg\" height=\"24px\"viewBox=\"0 0 24 24\"\n",
              "       width=\"24px\">\n",
              "    <path d=\"M0 0h24v24H0V0z\" fill=\"none\"/>\n",
              "    <path d=\"M18.56 5.44l.94 2.06.94-2.06 2.06-.94-2.06-.94-.94-2.06-.94 2.06-2.06.94zm-11 1L8.5 8.5l.94-2.06 2.06-.94-2.06-.94L8.5 2.5l-.94 2.06-2.06.94zm10 10l.94 2.06.94-2.06 2.06-.94-2.06-.94-.94-2.06-.94 2.06-2.06.94z\"/><path d=\"M17.41 7.96l-1.37-1.37c-.4-.4-.92-.59-1.43-.59-.52 0-1.04.2-1.43.59L10.3 9.45l-7.72 7.72c-.78.78-.78 2.05 0 2.83L4 21.41c.39.39.9.59 1.41.59.51 0 1.02-.2 1.41-.59l7.78-7.78 2.81-2.81c.8-.78.8-2.07 0-2.86zM5.41 20L4 18.59l7.72-7.72 1.47 1.35L5.41 20z\"/>\n",
              "  </svg>\n",
              "      </button>\n",
              "      \n",
              "  <style>\n",
              "    .colab-df-container {\n",
              "      display:flex;\n",
              "      flex-wrap:wrap;\n",
              "      gap: 12px;\n",
              "    }\n",
              "\n",
              "    .colab-df-convert {\n",
              "      background-color: #E8F0FE;\n",
              "      border: none;\n",
              "      border-radius: 50%;\n",
              "      cursor: pointer;\n",
              "      display: none;\n",
              "      fill: #1967D2;\n",
              "      height: 32px;\n",
              "      padding: 0 0 0 0;\n",
              "      width: 32px;\n",
              "    }\n",
              "\n",
              "    .colab-df-convert:hover {\n",
              "      background-color: #E2EBFA;\n",
              "      box-shadow: 0px 1px 2px rgba(60, 64, 67, 0.3), 0px 1px 3px 1px rgba(60, 64, 67, 0.15);\n",
              "      fill: #174EA6;\n",
              "    }\n",
              "\n",
              "    [theme=dark] .colab-df-convert {\n",
              "      background-color: #3B4455;\n",
              "      fill: #D2E3FC;\n",
              "    }\n",
              "\n",
              "    [theme=dark] .colab-df-convert:hover {\n",
              "      background-color: #434B5C;\n",
              "      box-shadow: 0px 1px 3px 1px rgba(0, 0, 0, 0.15);\n",
              "      filter: drop-shadow(0px 1px 2px rgba(0, 0, 0, 0.3));\n",
              "      fill: #FFFFFF;\n",
              "    }\n",
              "  </style>\n",
              "\n",
              "      <script>\n",
              "        const buttonEl =\n",
              "          document.querySelector('#df-a9d2b476-c4b3-4cc1-8eb5-f65da53ed5df button.colab-df-convert');\n",
              "        buttonEl.style.display =\n",
              "          google.colab.kernel.accessAllowed ? 'block' : 'none';\n",
              "\n",
              "        async function convertToInteractive(key) {\n",
              "          const element = document.querySelector('#df-a9d2b476-c4b3-4cc1-8eb5-f65da53ed5df');\n",
              "          const dataTable =\n",
              "            await google.colab.kernel.invokeFunction('convertToInteractive',\n",
              "                                                     [key], {});\n",
              "          if (!dataTable) return;\n",
              "\n",
              "          const docLinkHtml = 'Like what you see? Visit the ' +\n",
              "            '<a target=\"_blank\" href=https://colab.research.google.com/notebooks/data_table.ipynb>data table notebook</a>'\n",
              "            + ' to learn more about interactive tables.';\n",
              "          element.innerHTML = '';\n",
              "          dataTable['output_type'] = 'display_data';\n",
              "          await google.colab.output.renderOutput(dataTable, element);\n",
              "          const docLink = document.createElement('div');\n",
              "          docLink.innerHTML = docLinkHtml;\n",
              "          element.appendChild(docLink);\n",
              "        }\n",
              "      </script>\n",
              "    </div>\n",
              "  </div>\n",
              "  "
            ]
          },
          "metadata": {},
          "execution_count": 4
        }
      ]
    },
    {
      "cell_type": "markdown",
      "source": [
        "Так как тестовые данные не содержат меток, то будем использовать только\n",
        "трейн для обучения и валидации, чтобы можно было оценить качество модели.\n",
        "Посмотрим на баланс классов:"
      ],
      "metadata": {
        "id": "JYdB2PmAtha8"
      }
    },
    {
      "cell_type": "code",
      "source": [
        "df_train['label'].value_counts()"
      ],
      "metadata": {
        "colab": {
          "base_uri": "https://localhost:8080/"
        },
        "id": "33fb8uMPr8RO",
        "outputId": "75b4fc5a-5641-4a06-b4b4-836dfd4eb819"
      },
      "execution_count": 5,
      "outputs": [
        {
          "output_type": "execute_result",
          "data": {
            "text/plain": [
              "0    29720\n",
              "1     2242\n",
              "Name: label, dtype: int64"
            ]
          },
          "metadata": {},
          "execution_count": 5
        }
      ]
    },
    {
      "cell_type": "code",
      "source": [
        "df_train['label'].value_counts()[0] / df_train['label'].value_counts()[1]"
      ],
      "metadata": {
        "colab": {
          "base_uri": "https://localhost:8080/"
        },
        "id": "Gdr2vJcbtmf8",
        "outputId": "2676e836-96ab-4966-f6cf-96f48c974ac9"
      },
      "execution_count": 6,
      "outputs": [
        {
          "output_type": "execute_result",
          "data": {
            "text/plain": [
              "13.256021409455842"
            ]
          },
          "metadata": {},
          "execution_count": 6
        }
      ]
    },
    {
      "cell_type": "markdown",
      "source": [
        "Как часто бывает в подобных задачах, мы имеем большой дисбаланс классов.\n",
        "Забегая вперёд, мной была предпринята попытка устранить его путём классического\n",
        "оверсэмплинга, где обучающий датасет был увеличен сэмплами из себя же, чтобы уравнять\n",
        "количество объектов обоих классов. Данный подход привёл к очень быстрому переобучению\n",
        "ввиду и так малого размера исходного датасета, а упрощать модель было уже некуда.\n",
        "В итоге, от идеи оверсэмплинга пришлось отказаться.\n",
        "\n",
        "Сделаем разбивку на трейн и валидацию:"
      ],
      "metadata": {
        "id": "HTJ936IfttGm"
      }
    },
    {
      "cell_type": "code",
      "source": [
        "df_train, df_val = train_test_split(df_train, \n",
        "                                    test_size=0.2, \n",
        "                                    random_state=RANDOM_STATE, \n",
        "                                    stratify=df_train['label'])\n",
        "\n",
        "df_train.shape, df_val.shape"
      ],
      "metadata": {
        "colab": {
          "base_uri": "https://localhost:8080/"
        },
        "id": "kGx6yupbtmix",
        "outputId": "9138dcc4-013f-4208-9d4b-0379b6db7dc7"
      },
      "execution_count": 7,
      "outputs": [
        {
          "output_type": "execute_result",
          "data": {
            "text/plain": [
              "((25569, 2), (6393, 2))"
            ]
          },
          "metadata": {},
          "execution_count": 7
        }
      ]
    },
    {
      "cell_type": "markdown",
      "source": [
        "Сделаем подготовку текстов:"
      ],
      "metadata": {
        "id": "TnG9gs7zt2G6"
      }
    },
    {
      "cell_type": "code",
      "source": [
        "lemmatizer = WordNetLemmatizer()\n",
        "nltk.download('wordnet')\n",
        "nltk.download('omw-1.4')"
      ],
      "metadata": {
        "colab": {
          "base_uri": "https://localhost:8080/"
        },
        "id": "L6VVb9Y1tmls",
        "outputId": "4993643e-5ffc-4e7e-ceac-27cb8911e705"
      },
      "execution_count": 8,
      "outputs": [
        {
          "output_type": "stream",
          "name": "stderr",
          "text": [
            "[nltk_data] Downloading package wordnet to /root/nltk_data...\n",
            "[nltk_data] Downloading package omw-1.4 to /root/nltk_data...\n"
          ]
        },
        {
          "output_type": "execute_result",
          "data": {
            "text/plain": [
              "True"
            ]
          },
          "metadata": {},
          "execution_count": 8
        }
      ]
    },
    {
      "cell_type": "code",
      "source": [
        "puncts = set(punctuation)\n",
        "# Не будем очищать текст от апострофов, заменим их потом на пробелы,\n",
        "# т.к. встроенные в nltk английские стопслова и так потом отфильтруют лишнее\n",
        "puncts = puncts - {\"'\"}"
      ],
      "metadata": {
        "id": "3tv0y_v8tmnw"
      },
      "execution_count": 9,
      "outputs": []
    },
    {
      "cell_type": "code",
      "source": [
        "def preprocess_text(txt):\n",
        "    txt = str(txt)\n",
        "    txt = ''.join(char for char in txt if char not in puncts) # очистка от пунктуации\n",
        "    txt = txt.replace(\"'\", \" \")\n",
        "    txt = txt.lower().split()\n",
        "    txt = [word for word in txt if word.isalpha()] # очистка от символов и цифр\n",
        "    txt = [lemmatizer.lemmatize(word) for word in txt] # лемматизация\n",
        "    txt = [word for word in txt if word not in stopwords.words('english')] # очистка от стопслов\n",
        "    return ' '.join(txt)"
      ],
      "metadata": {
        "id": "pJk3qoCHt-ar"
      },
      "execution_count": 10,
      "outputs": []
    },
    {
      "cell_type": "code",
      "source": [
        "import nltk\n",
        "nltk.download('stopwords')"
      ],
      "metadata": {
        "colab": {
          "base_uri": "https://localhost:8080/"
        },
        "id": "pIhMQZ2_uUil",
        "outputId": "18309ebb-6a69-4c4f-e2c5-4d05538c389d"
      },
      "execution_count": 11,
      "outputs": [
        {
          "output_type": "stream",
          "name": "stderr",
          "text": [
            "[nltk_data] Downloading package stopwords to /root/nltk_data...\n",
            "[nltk_data]   Unzipping corpora/stopwords.zip.\n"
          ]
        },
        {
          "output_type": "execute_result",
          "data": {
            "text/plain": [
              "True"
            ]
          },
          "metadata": {},
          "execution_count": 11
        }
      ]
    },
    {
      "cell_type": "code",
      "source": [
        "tqdm.pandas()\n",
        "\n",
        "df_train['tweet'] = df_train['tweet'].progress_apply(preprocess_text)\n",
        "df_val['tweet'] = df_val['tweet'].progress_apply(preprocess_text)"
      ],
      "metadata": {
        "colab": {
          "base_uri": "https://localhost:8080/"
        },
        "id": "x7UL04BXt-eC",
        "outputId": "a23b9fef-65c8-48ef-8762-d6f4e5721ceb"
      },
      "execution_count": 12,
      "outputs": [
        {
          "output_type": "stream",
          "name": "stderr",
          "text": [
            "100%|██████████| 25569/25569 [00:33<00:00, 757.86it/s]\n",
            "100%|██████████| 6393/6393 [00:07<00:00, 821.17it/s]\n"
          ]
        }
      ]
    },
    {
      "cell_type": "code",
      "source": [
        "df_train.head()"
      ],
      "metadata": {
        "colab": {
          "base_uri": "https://localhost:8080/",
          "height": 238
        },
        "id": "pwgnwBljt-gp",
        "outputId": "6a090090-4d15-432b-e053-e565dfe2c1e2"
      },
      "execution_count": 13,
      "outputs": [
        {
          "output_type": "execute_result",
          "data": {
            "text/plain": [
              "       label                                              tweet\n",
              "id                                                             \n",
              "14553      0               user amazing wait see going cantwait\n",
              "2563       0                        wait new user trailer gamer\n",
              "12125      0                  thriving iam positive affirmation\n",
              "6326       0  happy new user book lil upset page faded user ...\n",
              "3996       0  arrive cold rainy english noh first time back ..."
            ],
            "text/html": [
              "\n",
              "  <div id=\"df-e77c8af5-e375-4c79-a247-c38b21d1c9a5\">\n",
              "    <div class=\"colab-df-container\">\n",
              "      <div>\n",
              "<style scoped>\n",
              "    .dataframe tbody tr th:only-of-type {\n",
              "        vertical-align: middle;\n",
              "    }\n",
              "\n",
              "    .dataframe tbody tr th {\n",
              "        vertical-align: top;\n",
              "    }\n",
              "\n",
              "    .dataframe thead th {\n",
              "        text-align: right;\n",
              "    }\n",
              "</style>\n",
              "<table border=\"1\" class=\"dataframe\">\n",
              "  <thead>\n",
              "    <tr style=\"text-align: right;\">\n",
              "      <th></th>\n",
              "      <th>label</th>\n",
              "      <th>tweet</th>\n",
              "    </tr>\n",
              "    <tr>\n",
              "      <th>id</th>\n",
              "      <th></th>\n",
              "      <th></th>\n",
              "    </tr>\n",
              "  </thead>\n",
              "  <tbody>\n",
              "    <tr>\n",
              "      <th>14553</th>\n",
              "      <td>0</td>\n",
              "      <td>user amazing wait see going cantwait</td>\n",
              "    </tr>\n",
              "    <tr>\n",
              "      <th>2563</th>\n",
              "      <td>0</td>\n",
              "      <td>wait new user trailer gamer</td>\n",
              "    </tr>\n",
              "    <tr>\n",
              "      <th>12125</th>\n",
              "      <td>0</td>\n",
              "      <td>thriving iam positive affirmation</td>\n",
              "    </tr>\n",
              "    <tr>\n",
              "      <th>6326</th>\n",
              "      <td>0</td>\n",
              "      <td>happy new user book lil upset page faded user ...</td>\n",
              "    </tr>\n",
              "    <tr>\n",
              "      <th>3996</th>\n",
              "      <td>0</td>\n",
              "      <td>arrive cold rainy english noh first time back ...</td>\n",
              "    </tr>\n",
              "  </tbody>\n",
              "</table>\n",
              "</div>\n",
              "      <button class=\"colab-df-convert\" onclick=\"convertToInteractive('df-e77c8af5-e375-4c79-a247-c38b21d1c9a5')\"\n",
              "              title=\"Convert this dataframe to an interactive table.\"\n",
              "              style=\"display:none;\">\n",
              "        \n",
              "  <svg xmlns=\"http://www.w3.org/2000/svg\" height=\"24px\"viewBox=\"0 0 24 24\"\n",
              "       width=\"24px\">\n",
              "    <path d=\"M0 0h24v24H0V0z\" fill=\"none\"/>\n",
              "    <path d=\"M18.56 5.44l.94 2.06.94-2.06 2.06-.94-2.06-.94-.94-2.06-.94 2.06-2.06.94zm-11 1L8.5 8.5l.94-2.06 2.06-.94-2.06-.94L8.5 2.5l-.94 2.06-2.06.94zm10 10l.94 2.06.94-2.06 2.06-.94-2.06-.94-.94-2.06-.94 2.06-2.06.94z\"/><path d=\"M17.41 7.96l-1.37-1.37c-.4-.4-.92-.59-1.43-.59-.52 0-1.04.2-1.43.59L10.3 9.45l-7.72 7.72c-.78.78-.78 2.05 0 2.83L4 21.41c.39.39.9.59 1.41.59.51 0 1.02-.2 1.41-.59l7.78-7.78 2.81-2.81c.8-.78.8-2.07 0-2.86zM5.41 20L4 18.59l7.72-7.72 1.47 1.35L5.41 20z\"/>\n",
              "  </svg>\n",
              "      </button>\n",
              "      \n",
              "  <style>\n",
              "    .colab-df-container {\n",
              "      display:flex;\n",
              "      flex-wrap:wrap;\n",
              "      gap: 12px;\n",
              "    }\n",
              "\n",
              "    .colab-df-convert {\n",
              "      background-color: #E8F0FE;\n",
              "      border: none;\n",
              "      border-radius: 50%;\n",
              "      cursor: pointer;\n",
              "      display: none;\n",
              "      fill: #1967D2;\n",
              "      height: 32px;\n",
              "      padding: 0 0 0 0;\n",
              "      width: 32px;\n",
              "    }\n",
              "\n",
              "    .colab-df-convert:hover {\n",
              "      background-color: #E2EBFA;\n",
              "      box-shadow: 0px 1px 2px rgba(60, 64, 67, 0.3), 0px 1px 3px 1px rgba(60, 64, 67, 0.15);\n",
              "      fill: #174EA6;\n",
              "    }\n",
              "\n",
              "    [theme=dark] .colab-df-convert {\n",
              "      background-color: #3B4455;\n",
              "      fill: #D2E3FC;\n",
              "    }\n",
              "\n",
              "    [theme=dark] .colab-df-convert:hover {\n",
              "      background-color: #434B5C;\n",
              "      box-shadow: 0px 1px 3px 1px rgba(0, 0, 0, 0.15);\n",
              "      filter: drop-shadow(0px 1px 2px rgba(0, 0, 0, 0.3));\n",
              "      fill: #FFFFFF;\n",
              "    }\n",
              "  </style>\n",
              "\n",
              "      <script>\n",
              "        const buttonEl =\n",
              "          document.querySelector('#df-e77c8af5-e375-4c79-a247-c38b21d1c9a5 button.colab-df-convert');\n",
              "        buttonEl.style.display =\n",
              "          google.colab.kernel.accessAllowed ? 'block' : 'none';\n",
              "\n",
              "        async function convertToInteractive(key) {\n",
              "          const element = document.querySelector('#df-e77c8af5-e375-4c79-a247-c38b21d1c9a5');\n",
              "          const dataTable =\n",
              "            await google.colab.kernel.invokeFunction('convertToInteractive',\n",
              "                                                     [key], {});\n",
              "          if (!dataTable) return;\n",
              "\n",
              "          const docLinkHtml = 'Like what you see? Visit the ' +\n",
              "            '<a target=\"_blank\" href=https://colab.research.google.com/notebooks/data_table.ipynb>data table notebook</a>'\n",
              "            + ' to learn more about interactive tables.';\n",
              "          element.innerHTML = '';\n",
              "          dataTable['output_type'] = 'display_data';\n",
              "          await google.colab.output.renderOutput(dataTable, element);\n",
              "          const docLink = document.createElement('div');\n",
              "          docLink.innerHTML = docLinkHtml;\n",
              "          element.appendChild(docLink);\n",
              "        }\n",
              "      </script>\n",
              "    </div>\n",
              "  </div>\n",
              "  "
            ]
          },
          "metadata": {},
          "execution_count": 13
        }
      ]
    },
    {
      "cell_type": "markdown",
      "source": [
        "Подготовим общий корпус текста:"
      ],
      "metadata": {
        "id": "P7FqSLzNuo-6"
      }
    },
    {
      "cell_type": "code",
      "source": [
        "train_corpus = ''.join(df_train['tweet'].values)"
      ],
      "metadata": {
        "id": "rixj0uYwt-jB"
      },
      "execution_count": 14,
      "outputs": []
    },
    {
      "cell_type": "markdown",
      "source": [
        "Сделаем токенизацию:"
      ],
      "metadata": {
        "id": "lZvYNf7Zuvjf"
      }
    },
    {
      "cell_type": "code",
      "source": [
        "import nltk\n",
        "nltk.download('punkt')"
      ],
      "metadata": {
        "colab": {
          "base_uri": "https://localhost:8080/"
        },
        "id": "u1o8zAJFu4ZH",
        "outputId": "d61f4028-0f2e-42cd-b9d5-6f6dca4d80d5"
      },
      "execution_count": 15,
      "outputs": [
        {
          "output_type": "stream",
          "name": "stderr",
          "text": [
            "[nltk_data] Downloading package punkt to /root/nltk_data...\n",
            "[nltk_data]   Unzipping tokenizers/punkt.zip.\n"
          ]
        },
        {
          "output_type": "execute_result",
          "data": {
            "text/plain": [
              "True"
            ]
          },
          "metadata": {},
          "execution_count": 15
        }
      ]
    },
    {
      "cell_type": "code",
      "source": [
        "tokens = word_tokenize(train_corpus)\n",
        "tokens[:5]"
      ],
      "metadata": {
        "colab": {
          "base_uri": "https://localhost:8080/"
        },
        "id": "iwDyuWzRt-la",
        "outputId": "dbb33a6b-fe23-46dc-bd6c-866f7579e4f7"
      },
      "execution_count": 16,
      "outputs": [
        {
          "output_type": "execute_result",
          "data": {
            "text/plain": [
              "['user', 'amazing', 'wait', 'see', 'going']"
            ]
          },
          "metadata": {},
          "execution_count": 16
        }
      ]
    },
    {
      "cell_type": "markdown",
      "source": [
        "Создадим словарь:"
      ],
      "metadata": {
        "id": "x-h0n-Vvu8LS"
      }
    },
    {
      "cell_type": "code",
      "source": [
        "MAX_WORDS = 2000\n",
        "MAX_LEN = 20"
      ],
      "metadata": {
        "id": "FYnxhRtfu_U2"
      },
      "execution_count": 17,
      "outputs": []
    },
    {
      "cell_type": "code",
      "source": [
        "dist = FreqDist(tokens)\n",
        "tokens_top = [items[0] for items in dist.most_common(MAX_WORDS - 1)]"
      ],
      "metadata": {
        "id": "kIidFzCMvCcF"
      },
      "execution_count": 18,
      "outputs": []
    },
    {
      "cell_type": "code",
      "source": [
        "tokens_top[:10]"
      ],
      "metadata": {
        "colab": {
          "base_uri": "https://localhost:8080/"
        },
        "id": "yY9L39OZvCft",
        "outputId": "e8b442cb-06b8-4b08-811f-95b19709d59a"
      },
      "execution_count": 19,
      "outputs": [
        {
          "output_type": "execute_result",
          "data": {
            "text/plain": [
              "['user', 'day', 'love', 'u', 'amp', 'like', 'life', 'happy', 'get', 'wa']"
            ]
          },
          "metadata": {},
          "execution_count": 19
        }
      ]
    },
    {
      "cell_type": "code",
      "source": [
        "vocabulary = {word: count for count, word in dict(enumerate(tokens_top, 1)).items()}"
      ],
      "metadata": {
        "id": "XbKoahhFvCl9"
      },
      "execution_count": 20,
      "outputs": []
    },
    {
      "cell_type": "markdown",
      "source": [
        "Переведём твиты в набор индексов, добавим паддинг:"
      ],
      "metadata": {
        "id": "AIPzeSKZvTB1"
      }
    },
    {
      "cell_type": "code",
      "source": [
        "def text_to_sequence(txt, maxlen):\n",
        "    result = []\n",
        "    tokens = word_tokenize(txt)\n",
        "    for word in tokens:\n",
        "        if word in vocabulary:\n",
        "            result.append(vocabulary[word])\n",
        "\n",
        "    padding = [0] * (maxlen-len(result))\n",
        "    return result[-maxlen:] + padding"
      ],
      "metadata": {
        "id": "cnibrQXWvT9M"
      },
      "execution_count": 21,
      "outputs": []
    },
    {
      "cell_type": "code",
      "source": [
        "X_train = np.array([text_to_sequence(txt, MAX_LEN) for txt in df_train['tweet'].values])\n",
        "X_val = np.array([text_to_sequence(txt, MAX_LEN) for txt in df_val['tweet'].values])\n",
        "\n",
        "X_train.shape, X_val.shape"
      ],
      "metadata": {
        "colab": {
          "base_uri": "https://localhost:8080/"
        },
        "id": "t6-lOEFuvbOE",
        "outputId": "889bc622-3aa4-47cc-a5db-ea8976ad3eb2"
      },
      "execution_count": 22,
      "outputs": [
        {
          "output_type": "execute_result",
          "data": {
            "text/plain": [
              "((25569, 20), (6393, 20))"
            ]
          },
          "metadata": {},
          "execution_count": 22
        }
      ]
    },
    {
      "cell_type": "code",
      "source": [
        "print(f\"Оригинальная строка: {df_train['tweet'].iloc[5]}\")\n",
        "print(f\"Обработанная строка: {X_train[5]}\")"
      ],
      "metadata": {
        "colab": {
          "base_uri": "https://localhost:8080/"
        },
        "id": "EOk-lwJQwBIa",
        "outputId": "08265675-c5b0-4706-feff-8843f247c10c"
      },
      "execution_count": 23,
      "outputs": [
        {
          "output_type": "stream",
          "name": "stdout",
          "text": [
            "Оригинальная строка: found beautiful one bedroom double stall garage patio amp huge kitchen signed lease wait move\n",
            "Обработанная строка: [ 172   51   19 1233    5  777 1537 1538   68  694    0    0    0    0\n",
            "    0    0    0    0    0    0]\n"
          ]
        }
      ]
    },
    {
      "cell_type": "markdown",
      "source": [
        "Инициализируем свёрточную нейросеть:"
      ],
      "metadata": {
        "id": "dEL0C-yHwGog"
      }
    },
    {
      "cell_type": "code",
      "source": [
        "class Net(nn.Module):\n",
        "    def __init__(self, vocab_size=2000, embedding_dim=128, out_channel=64, num_classes=1, threshold=0.5):\n",
        "        super().__init__()\n",
        "        self.threshold = threshold\n",
        "        self.embedding = nn.Embedding(vocab_size, embedding_dim, padding_idx=0) \n",
        "        self.conv_1 = nn.Conv1d(embedding_dim, out_channel, kernel_size=3, padding='same') \n",
        "        self.bn1 = nn.BatchNorm1d(out_channel)\n",
        "        self.pool = nn.MaxPool1d(2)\n",
        "        self.relu = nn.ReLU()\n",
        "        self.linear_1 = nn.Linear(out_channel, num_classes)\n",
        "        self.dp1d = nn.Dropout1d(0.5)\n",
        "        self.dp = nn.Dropout(0.5)\n",
        "        \n",
        "        \n",
        "    def forward(self, x):     # Для понимания обозначим размеры входных данных на каждом слое,\n",
        "                              # используя гиперпараметры по умолчанию и max_len=20\n",
        "        x = self.embedding(x) # (1, 20) -> (1, 20, 128)       \n",
        "        x = x.permute(0, 2, 1) # (1, 20, 128) -> (1, 128, 20)\n",
        "        x = self.conv_1(x) # (1, 128, 20) -> (1, 64, 20)\n",
        "        x = self.bn1(x)\n",
        "        x = self.dp1d(x)\n",
        "        x = self.relu(x)\n",
        "        x = self.pool(x) # (1, 64, 20) -> (1, 64, 10)\n",
        "        \n",
        "        x = torch.max(x, axis=2).values # (1, 64, 10) -> (1, 64)\n",
        "        x = self.dp(x)\n",
        "        x = self.linear_1(x) # (1, 64) -> (1, 1)\n",
        "        x = torch.sigmoid(x)\n",
        "        return x\n",
        "    \n",
        "    def predict(self, x):\n",
        "        x = torch.IntTensor(x).to(device)\n",
        "        x = self.forward(x)\n",
        "        x = torch.squeeze((x > self.threshold).int())\n",
        "        return x"
      ],
      "metadata": {
        "id": "BffVsuuLwIed"
      },
      "execution_count": 24,
      "outputs": []
    },
    {
      "cell_type": "code",
      "source": [
        "class DataWrapper(Dataset):\n",
        "    def __init__(self, data, target):\n",
        "        self.data = torch.from_numpy(data)\n",
        "        self.target = torch.from_numpy(target)\n",
        "        \n",
        "    def __getitem__(self, index):\n",
        "        x = self.data[index]\n",
        "        y = self.target[index]\n",
        "            \n",
        "        return x, y\n",
        "    \n",
        "    def __len__(self):\n",
        "        return len(self.data)"
      ],
      "metadata": {
        "id": "QtuWX1swwZHX"
      },
      "execution_count": 25,
      "outputs": []
    },
    {
      "cell_type": "code",
      "source": [
        "BATCH_SIZE = 512"
      ],
      "metadata": {
        "id": "vtbu_cqhwZKc"
      },
      "execution_count": 26,
      "outputs": []
    },
    {
      "cell_type": "code",
      "source": [
        "torch.random.manual_seed(RANDOM_STATE)\n",
        "\n",
        "train_dataset = DataWrapper(X_train, df_train['label'].values)\n",
        "train_loader = DataLoader(train_dataset, batch_size=BATCH_SIZE, shuffle=True)\n",
        "\n",
        "val_dataset = DataWrapper(X_val, df_val['label'].values)\n",
        "val_loader = DataLoader(val_dataset, batch_size=BATCH_SIZE, shuffle=True)"
      ],
      "metadata": {
        "id": "rK62bl3lwZQb"
      },
      "execution_count": 27,
      "outputs": []
    },
    {
      "cell_type": "code",
      "source": [
        "device = 'cuda' if torch.cuda.is_available() else 'cpu'\n",
        "device"
      ],
      "metadata": {
        "colab": {
          "base_uri": "https://localhost:8080/",
          "height": 36
        },
        "id": "H84W_99LxSg2",
        "outputId": "a374fe0c-5917-4122-9ab4-e886c403071e"
      },
      "execution_count": 28,
      "outputs": [
        {
          "output_type": "execute_result",
          "data": {
            "text/plain": [
              "'cuda'"
            ],
            "application/vnd.google.colaboratory.intrinsic+json": {
              "type": "string"
            }
          },
          "metadata": {},
          "execution_count": 28
        }
      ]
    },
    {
      "cell_type": "markdown",
      "source": [
        "Напишем код сети. Учитывая дисбаланс классов, метрика accuracy нам\n",
        "не подходит. Вместо неё будем использовать F1-score."
      ],
      "metadata": {
        "id": "P_NjIClmxvAm"
      }
    },
    {
      "cell_type": "code",
      "source": [
        "def train_nn(epochs=5, embedding_dim=128, hidden_size=32, lr=1e-2, threshold=0.5, return_model=False):\n",
        "\n",
        "    torch.random.manual_seed(RANDOM_STATE)\n",
        "    torch.backends.cudnn.deterministic = True\n",
        "\n",
        "    net = Net(vocab_size=MAX_WORDS, embedding_dim=embedding_dim, \n",
        "              out_channel=hidden_size, threshold=threshold).to(device)\n",
        "    optimizer = torch.optim.Adam(net.parameters(), lr=lr)\n",
        "    criterion = nn.BCELoss()\n",
        "\n",
        "    for epoch in range(epochs):\n",
        "        train_losses = np.array([])\n",
        "        test_losses = np.array([])\n",
        "        tp, fp, tn, fn = 0, 0, 0, 0\n",
        "\n",
        "        for i, (inputs, labels) in enumerate(train_loader):\n",
        "            net.train()\n",
        "            inputs, labels = inputs.to(device), labels.to(device)\n",
        "\n",
        "            optimizer.zero_grad()\n",
        "            outputs = net(inputs)\n",
        "\n",
        "            loss = criterion(outputs, labels.float().view(-1, 1))\n",
        "            loss.backward()\n",
        "            optimizer.step()\n",
        "\n",
        "            train_losses = np.append(train_losses, loss.item())\n",
        "\n",
        "            net.eval()\n",
        "            outputs = torch.squeeze((net(inputs) > threshold).int())\n",
        "\n",
        "            tp += ((labels == 1) & (outputs == 1)).sum().item()\n",
        "            tn += ((labels == 0) & (outputs == 0)).sum().item()\n",
        "            fp += ((labels == 0) & (outputs == 1)).sum().item()\n",
        "            fn += ((labels == 1) & (outputs == 0)).sum().item()\n",
        "\n",
        "        precision = tp / (tp + fp) if (tp + fp) != 0 else 0\n",
        "        recall = tp / (tp + fn) if (tp + fn) != 0 else 0\n",
        "\n",
        "        f1_score = 2 * precision * recall / (precision + recall) if (precision + recall) != 0 else 0\n",
        "\n",
        "        print(f'Epoch [{epoch + 1}/{epochs}]. ' \\\n",
        "              f'Loss: {train_losses.mean():.3f}. ' \\\n",
        "              f'F1-score: {f1_score:.3f}', end='. ')\n",
        "\n",
        "        tp, fp, tn, fn = 0, 0, 0, 0\n",
        "\n",
        "        with torch.no_grad():\n",
        "            for i, (inputs, labels) in enumerate(val_loader):\n",
        "\n",
        "                inputs, labels = inputs.to(device), labels.to(device)\n",
        "                outputs = net(inputs)\n",
        "\n",
        "                loss = criterion(outputs, labels.float().view(-1, 1))\n",
        "                test_losses = np.append(test_losses, loss.item())\n",
        "\n",
        "                tp += ((labels == 1) & (torch.squeeze((outputs > threshold).int()) == 1)).sum()\n",
        "                tn += ((labels == 0) & (torch.squeeze((outputs > threshold).int()) == 0)).sum()\n",
        "                fp += ((labels == 0) & (torch.squeeze((outputs > threshold).int()) == 1)).sum()\n",
        "                fn += ((labels == 1) & (torch.squeeze((outputs > threshold).int()) == 0)).sum()\n",
        "\n",
        "        precision = tp / (tp + fp) if (tp + fp) != 0 else 0\n",
        "        recall = tp / (tp + fn) if (tp + fn) != 0 else 0\n",
        "\n",
        "        f1_score = 2 * precision * recall / (precision + recall) if (precision + recall) != 0 else 0\n",
        "\n",
        "        print(f'Test loss: {test_losses.mean():.3f}. Test F1-score: {f1_score:.3f}. Precision: {precision:.3f}. Recall: {recall:.3f}')\n",
        "\n",
        "    print('Training is finished!')\n",
        "    if return_model:\n",
        "        return net"
      ],
      "metadata": {
        "id": "0h7dSFnxxt9J"
      },
      "execution_count": 29,
      "outputs": []
    },
    {
      "cell_type": "markdown",
      "source": [
        "Обучим модель на 20 эпохах:"
      ],
      "metadata": {
        "id": "7CV8TQX_x3R2"
      }
    },
    {
      "cell_type": "code",
      "source": [
        "train_nn(epochs=20, embedding_dim=128)"
      ],
      "metadata": {
        "colab": {
          "base_uri": "https://localhost:8080/"
        },
        "id": "0n9GxoLax1LX",
        "outputId": "6662916c-6bc8-43eb-83bb-4e7bebe6e9e8"
      },
      "execution_count": 30,
      "outputs": [
        {
          "output_type": "stream",
          "name": "stdout",
          "text": [
            "Epoch [1/20]. Loss: 0.293. F1-score: 0.003. Test loss: 0.199. Test F1-score: 0.000. Precision: 0.000. Recall: 0.000\n",
            "Epoch [2/20]. Loss: 0.200. F1-score: 0.122. Test loss: 0.177. Test F1-score: 0.254. Precision: 0.917. Recall: 0.147\n",
            "Epoch [3/20]. Loss: 0.170. F1-score: 0.430. Test loss: 0.164. Test F1-score: 0.450. Precision: 0.866. Recall: 0.304\n",
            "Epoch [4/20]. Loss: 0.147. F1-score: 0.557. Test loss: 0.160. Test F1-score: 0.506. Precision: 0.798. Recall: 0.371\n",
            "Epoch [5/20]. Loss: 0.133. F1-score: 0.629. Test loss: 0.166. Test F1-score: 0.509. Precision: 0.845. Recall: 0.364\n",
            "Epoch [6/20]. Loss: 0.125. F1-score: 0.657. Test loss: 0.163. Test F1-score: 0.548. Precision: 0.796. Recall: 0.417\n",
            "Epoch [7/20]. Loss: 0.118. F1-score: 0.681. Test loss: 0.168. Test F1-score: 0.556. Precision: 0.785. Recall: 0.431\n",
            "Epoch [8/20]. Loss: 0.110. F1-score: 0.714. Test loss: 0.178. Test F1-score: 0.564. Precision: 0.802. Recall: 0.435\n",
            "Epoch [9/20]. Loss: 0.106. F1-score: 0.737. Test loss: 0.179. Test F1-score: 0.563. Precision: 0.776. Recall: 0.442\n",
            "Epoch [10/20]. Loss: 0.102. F1-score: 0.764. Test loss: 0.185. Test F1-score: 0.568. Precision: 0.773. Recall: 0.449\n",
            "Epoch [11/20]. Loss: 0.095. F1-score: 0.781. Test loss: 0.192. Test F1-score: 0.581. Precision: 0.740. Recall: 0.478\n",
            "Epoch [12/20]. Loss: 0.092. F1-score: 0.781. Test loss: 0.201. Test F1-score: 0.579. Precision: 0.763. Recall: 0.467\n",
            "Epoch [13/20]. Loss: 0.089. F1-score: 0.801. Test loss: 0.218. Test F1-score: 0.573. Precision: 0.733. Recall: 0.471\n",
            "Epoch [14/20]. Loss: 0.083. F1-score: 0.810. Test loss: 0.219. Test F1-score: 0.580. Precision: 0.745. Recall: 0.475\n",
            "Epoch [15/20]. Loss: 0.079. F1-score: 0.830. Test loss: 0.235. Test F1-score: 0.582. Precision: 0.735. Recall: 0.482\n",
            "Epoch [16/20]. Loss: 0.082. F1-score: 0.833. Test loss: 0.252. Test F1-score: 0.587. Precision: 0.754. Recall: 0.480\n",
            "Epoch [17/20]. Loss: 0.079. F1-score: 0.838. Test loss: 0.255. Test F1-score: 0.586. Precision: 0.747. Recall: 0.482\n",
            "Epoch [18/20]. Loss: 0.075. F1-score: 0.843. Test loss: 0.263. Test F1-score: 0.585. Precision: 0.756. Recall: 0.478\n",
            "Epoch [19/20]. Loss: 0.074. F1-score: 0.858. Test loss: 0.281. Test F1-score: 0.581. Precision: 0.722. Recall: 0.487\n",
            "Epoch [20/20]. Loss: 0.073. F1-score: 0.865. Test loss: 0.289. Test F1-score: 0.582. Precision: 0.739. Recall: 0.480\n",
            "Training is finished!\n"
          ]
        }
      ]
    },
    {
      "cell_type": "markdown",
      "source": [
        "Видно, что модель быстро переобучается, несмотря на то, что у нас всего\n",
        "один слой свёртки и один выходной полносвязный, а также два слоя дропаута.\n",
        "Это связано с малым размером датасета. Сильное снижение количества каналов\n",
        "свёртки приводит к тому, что модель просто перестаёт обучаться, 32 канала\n",
        "в данном случае - более-менее оптимальное количество, найденное эмпирически.\n",
        "Снижение размерности эмбеддингов снижает переобучение, но не устраняет его,\n",
        "и, в целом, модель хуже показывает себя на тестовых данных.\n",
        "По значениям лосса и метрики на тесте считаю, что оптимальное значение эпох -\n",
        "7-9. Также имеем ввиду, что перед нами стоит задача выявления оскорбительных\n",
        "твитов, а значит метрика Recall имеет важное значение. Обучим нашу модель\n",
        "заново на 9 эпохах и снизим порог классификации, чтобы выявлять больше\n",
        "оскорбительных твитов:"
      ],
      "metadata": {
        "id": "uV952c3Ax_4s"
      }
    },
    {
      "cell_type": "code",
      "source": [
        "my_net = train_nn(epochs=9, threshold=0.25, return_model=True)"
      ],
      "metadata": {
        "colab": {
          "base_uri": "https://localhost:8080/"
        },
        "id": "ENs66Ek9x1OO",
        "outputId": "7882cd6a-e88c-4e55-f0c8-45155ddc1c69"
      },
      "execution_count": 31,
      "outputs": [
        {
          "output_type": "stream",
          "name": "stdout",
          "text": [
            "Epoch [1/9]. Loss: 0.293. F1-score: 0.210. Test loss: 0.199. Test F1-score: 0.330. Precision: 0.337. Recall: 0.324\n",
            "Epoch [2/9]. Loss: 0.200. F1-score: 0.424. Test loss: 0.177. Test F1-score: 0.446. Precision: 0.413. Recall: 0.484\n",
            "Epoch [3/9]. Loss: 0.170. F1-score: 0.538. Test loss: 0.164. Test F1-score: 0.484. Precision: 0.414. Recall: 0.583\n",
            "Epoch [4/9]. Loss: 0.147. F1-score: 0.595. Test loss: 0.160. Test F1-score: 0.482. Precision: 0.402. Recall: 0.603\n",
            "Epoch [5/9]. Loss: 0.133. F1-score: 0.623. Test loss: 0.166. Test F1-score: 0.500. Precision: 0.441. Recall: 0.578\n",
            "Epoch [6/9]. Loss: 0.125. F1-score: 0.651. Test loss: 0.163. Test F1-score: 0.509. Precision: 0.426. Recall: 0.634\n",
            "Epoch [7/9]. Loss: 0.118. F1-score: 0.677. Test loss: 0.168. Test F1-score: 0.510. Precision: 0.427. Recall: 0.634\n",
            "Epoch [8/9]. Loss: 0.110. F1-score: 0.689. Test loss: 0.178. Test F1-score: 0.512. Precision: 0.432. Recall: 0.627\n",
            "Epoch [9/9]. Loss: 0.106. F1-score: 0.699. Test loss: 0.179. Test F1-score: 0.523. Precision: 0.443. Recall: 0.638\n",
            "Training is finished!\n"
          ]
        }
      ]
    },
    {
      "cell_type": "markdown",
      "source": [
        "Теперь мы находим почти 64% оскорбительных твитов, правда, точность\n",
        "оставляет желать лучшего, и будет много \"ложных тревог\". Если бы у нас\n",
        "было больше данных, то модель обучилась лучше. Проверим, как работает\n",
        "предсказание модели на единичном примере:"
      ],
      "metadata": {
        "id": "2Hv20wO0yGRi"
      }
    },
    {
      "cell_type": "code",
      "source": [
        "my_net.predict(X_val[np.newaxis, 0])"
      ],
      "metadata": {
        "colab": {
          "base_uri": "https://localhost:8080/"
        },
        "id": "0f60iuprx1Qo",
        "outputId": "aadfc24d-a827-4c39-ec10-5781b705200e"
      },
      "execution_count": 32,
      "outputs": [
        {
          "output_type": "execute_result",
          "data": {
            "text/plain": [
              "tensor(1, device='cuda:0', dtype=torch.int32)"
            ]
          },
          "metadata": {},
          "execution_count": 32
        }
      ]
    }
  ]
}