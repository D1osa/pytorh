{
  "nbformat": 4,
  "nbformat_minor": 0,
  "metadata": {
    "colab": {
      "provenance": []
    },
    "kernelspec": {
      "name": "python3",
      "display_name": "Python 3"
    },
    "language_info": {
      "name": "python"
    },
    "accelerator": "GPU",
    "gpuClass": "standard",
    "widgets": {
      "application/vnd.jupyter.widget-state+json": {
        "1f2240acab70423da5987d6722ae994f": {
          "model_module": "@jupyter-widgets/controls",
          "model_name": "HBoxModel",
          "model_module_version": "1.5.0",
          "state": {
            "_dom_classes": [],
            "_model_module": "@jupyter-widgets/controls",
            "_model_module_version": "1.5.0",
            "_model_name": "HBoxModel",
            "_view_count": null,
            "_view_module": "@jupyter-widgets/controls",
            "_view_module_version": "1.5.0",
            "_view_name": "HBoxView",
            "box_style": "",
            "children": [
              "IPY_MODEL_cbfd1977622846abb975ed68923092c3",
              "IPY_MODEL_8cf8bb76250b490f8334ec07ff2ec1e8",
              "IPY_MODEL_f610e69e7e404d3988c612a90aab6a36"
            ],
            "layout": "IPY_MODEL_df9671f60be1456fba90e2b471bcafed"
          }
        },
        "cbfd1977622846abb975ed68923092c3": {
          "model_module": "@jupyter-widgets/controls",
          "model_name": "HTMLModel",
          "model_module_version": "1.5.0",
          "state": {
            "_dom_classes": [],
            "_model_module": "@jupyter-widgets/controls",
            "_model_module_version": "1.5.0",
            "_model_name": "HTMLModel",
            "_view_count": null,
            "_view_module": "@jupyter-widgets/controls",
            "_view_module_version": "1.5.0",
            "_view_name": "HTMLView",
            "description": "",
            "description_tooltip": null,
            "layout": "IPY_MODEL_086e43d6f8f24dd4972097637f48a975",
            "placeholder": "​",
            "style": "IPY_MODEL_217e549620e24d4e814e338d9da6b36b",
            "value": "100%"
          }
        },
        "8cf8bb76250b490f8334ec07ff2ec1e8": {
          "model_module": "@jupyter-widgets/controls",
          "model_name": "FloatProgressModel",
          "model_module_version": "1.5.0",
          "state": {
            "_dom_classes": [],
            "_model_module": "@jupyter-widgets/controls",
            "_model_module_version": "1.5.0",
            "_model_name": "FloatProgressModel",
            "_view_count": null,
            "_view_module": "@jupyter-widgets/controls",
            "_view_module_version": "1.5.0",
            "_view_name": "ProgressView",
            "bar_style": "success",
            "description": "",
            "description_tooltip": null,
            "layout": "IPY_MODEL_5cfa9d26d06143df961bc08260518085",
            "max": 169001437,
            "min": 0,
            "orientation": "horizontal",
            "style": "IPY_MODEL_592d14933d6447bd9e115ffffb5287f0",
            "value": 169001437
          }
        },
        "f610e69e7e404d3988c612a90aab6a36": {
          "model_module": "@jupyter-widgets/controls",
          "model_name": "HTMLModel",
          "model_module_version": "1.5.0",
          "state": {
            "_dom_classes": [],
            "_model_module": "@jupyter-widgets/controls",
            "_model_module_version": "1.5.0",
            "_model_name": "HTMLModel",
            "_view_count": null,
            "_view_module": "@jupyter-widgets/controls",
            "_view_module_version": "1.5.0",
            "_view_name": "HTMLView",
            "description": "",
            "description_tooltip": null,
            "layout": "IPY_MODEL_ca7019810a074a0db3c38c12f3978f39",
            "placeholder": "​",
            "style": "IPY_MODEL_6f26f1d3656e41d6928c881b5bb12bbd",
            "value": " 169001437/169001437 [00:13&lt;00:00, 6359527.04it/s]"
          }
        },
        "df9671f60be1456fba90e2b471bcafed": {
          "model_module": "@jupyter-widgets/base",
          "model_name": "LayoutModel",
          "model_module_version": "1.2.0",
          "state": {
            "_model_module": "@jupyter-widgets/base",
            "_model_module_version": "1.2.0",
            "_model_name": "LayoutModel",
            "_view_count": null,
            "_view_module": "@jupyter-widgets/base",
            "_view_module_version": "1.2.0",
            "_view_name": "LayoutView",
            "align_content": null,
            "align_items": null,
            "align_self": null,
            "border": null,
            "bottom": null,
            "display": null,
            "flex": null,
            "flex_flow": null,
            "grid_area": null,
            "grid_auto_columns": null,
            "grid_auto_flow": null,
            "grid_auto_rows": null,
            "grid_column": null,
            "grid_gap": null,
            "grid_row": null,
            "grid_template_areas": null,
            "grid_template_columns": null,
            "grid_template_rows": null,
            "height": null,
            "justify_content": null,
            "justify_items": null,
            "left": null,
            "margin": null,
            "max_height": null,
            "max_width": null,
            "min_height": null,
            "min_width": null,
            "object_fit": null,
            "object_position": null,
            "order": null,
            "overflow": null,
            "overflow_x": null,
            "overflow_y": null,
            "padding": null,
            "right": null,
            "top": null,
            "visibility": null,
            "width": null
          }
        },
        "086e43d6f8f24dd4972097637f48a975": {
          "model_module": "@jupyter-widgets/base",
          "model_name": "LayoutModel",
          "model_module_version": "1.2.0",
          "state": {
            "_model_module": "@jupyter-widgets/base",
            "_model_module_version": "1.2.0",
            "_model_name": "LayoutModel",
            "_view_count": null,
            "_view_module": "@jupyter-widgets/base",
            "_view_module_version": "1.2.0",
            "_view_name": "LayoutView",
            "align_content": null,
            "align_items": null,
            "align_self": null,
            "border": null,
            "bottom": null,
            "display": null,
            "flex": null,
            "flex_flow": null,
            "grid_area": null,
            "grid_auto_columns": null,
            "grid_auto_flow": null,
            "grid_auto_rows": null,
            "grid_column": null,
            "grid_gap": null,
            "grid_row": null,
            "grid_template_areas": null,
            "grid_template_columns": null,
            "grid_template_rows": null,
            "height": null,
            "justify_content": null,
            "justify_items": null,
            "left": null,
            "margin": null,
            "max_height": null,
            "max_width": null,
            "min_height": null,
            "min_width": null,
            "object_fit": null,
            "object_position": null,
            "order": null,
            "overflow": null,
            "overflow_x": null,
            "overflow_y": null,
            "padding": null,
            "right": null,
            "top": null,
            "visibility": null,
            "width": null
          }
        },
        "217e549620e24d4e814e338d9da6b36b": {
          "model_module": "@jupyter-widgets/controls",
          "model_name": "DescriptionStyleModel",
          "model_module_version": "1.5.0",
          "state": {
            "_model_module": "@jupyter-widgets/controls",
            "_model_module_version": "1.5.0",
            "_model_name": "DescriptionStyleModel",
            "_view_count": null,
            "_view_module": "@jupyter-widgets/base",
            "_view_module_version": "1.2.0",
            "_view_name": "StyleView",
            "description_width": ""
          }
        },
        "5cfa9d26d06143df961bc08260518085": {
          "model_module": "@jupyter-widgets/base",
          "model_name": "LayoutModel",
          "model_module_version": "1.2.0",
          "state": {
            "_model_module": "@jupyter-widgets/base",
            "_model_module_version": "1.2.0",
            "_model_name": "LayoutModel",
            "_view_count": null,
            "_view_module": "@jupyter-widgets/base",
            "_view_module_version": "1.2.0",
            "_view_name": "LayoutView",
            "align_content": null,
            "align_items": null,
            "align_self": null,
            "border": null,
            "bottom": null,
            "display": null,
            "flex": null,
            "flex_flow": null,
            "grid_area": null,
            "grid_auto_columns": null,
            "grid_auto_flow": null,
            "grid_auto_rows": null,
            "grid_column": null,
            "grid_gap": null,
            "grid_row": null,
            "grid_template_areas": null,
            "grid_template_columns": null,
            "grid_template_rows": null,
            "height": null,
            "justify_content": null,
            "justify_items": null,
            "left": null,
            "margin": null,
            "max_height": null,
            "max_width": null,
            "min_height": null,
            "min_width": null,
            "object_fit": null,
            "object_position": null,
            "order": null,
            "overflow": null,
            "overflow_x": null,
            "overflow_y": null,
            "padding": null,
            "right": null,
            "top": null,
            "visibility": null,
            "width": null
          }
        },
        "592d14933d6447bd9e115ffffb5287f0": {
          "model_module": "@jupyter-widgets/controls",
          "model_name": "ProgressStyleModel",
          "model_module_version": "1.5.0",
          "state": {
            "_model_module": "@jupyter-widgets/controls",
            "_model_module_version": "1.5.0",
            "_model_name": "ProgressStyleModel",
            "_view_count": null,
            "_view_module": "@jupyter-widgets/base",
            "_view_module_version": "1.2.0",
            "_view_name": "StyleView",
            "bar_color": null,
            "description_width": ""
          }
        },
        "ca7019810a074a0db3c38c12f3978f39": {
          "model_module": "@jupyter-widgets/base",
          "model_name": "LayoutModel",
          "model_module_version": "1.2.0",
          "state": {
            "_model_module": "@jupyter-widgets/base",
            "_model_module_version": "1.2.0",
            "_model_name": "LayoutModel",
            "_view_count": null,
            "_view_module": "@jupyter-widgets/base",
            "_view_module_version": "1.2.0",
            "_view_name": "LayoutView",
            "align_content": null,
            "align_items": null,
            "align_self": null,
            "border": null,
            "bottom": null,
            "display": null,
            "flex": null,
            "flex_flow": null,
            "grid_area": null,
            "grid_auto_columns": null,
            "grid_auto_flow": null,
            "grid_auto_rows": null,
            "grid_column": null,
            "grid_gap": null,
            "grid_row": null,
            "grid_template_areas": null,
            "grid_template_columns": null,
            "grid_template_rows": null,
            "height": null,
            "justify_content": null,
            "justify_items": null,
            "left": null,
            "margin": null,
            "max_height": null,
            "max_width": null,
            "min_height": null,
            "min_width": null,
            "object_fit": null,
            "object_position": null,
            "order": null,
            "overflow": null,
            "overflow_x": null,
            "overflow_y": null,
            "padding": null,
            "right": null,
            "top": null,
            "visibility": null,
            "width": null
          }
        },
        "6f26f1d3656e41d6928c881b5bb12bbd": {
          "model_module": "@jupyter-widgets/controls",
          "model_name": "DescriptionStyleModel",
          "model_module_version": "1.5.0",
          "state": {
            "_model_module": "@jupyter-widgets/controls",
            "_model_module_version": "1.5.0",
            "_model_name": "DescriptionStyleModel",
            "_view_count": null,
            "_view_module": "@jupyter-widgets/base",
            "_view_module_version": "1.2.0",
            "_view_name": "StyleView",
            "description_width": ""
          }
        },
        "6ab7acdd9b9e4fde8476d78f4737c3b8": {
          "model_module": "@jupyter-widgets/controls",
          "model_name": "HBoxModel",
          "model_module_version": "1.5.0",
          "state": {
            "_dom_classes": [],
            "_model_module": "@jupyter-widgets/controls",
            "_model_module_version": "1.5.0",
            "_model_name": "HBoxModel",
            "_view_count": null,
            "_view_module": "@jupyter-widgets/controls",
            "_view_module_version": "1.5.0",
            "_view_name": "HBoxView",
            "box_style": "",
            "children": [
              "IPY_MODEL_092e09a78d6d4fd3abb5f0e2d85b08b7",
              "IPY_MODEL_d4f3b1cd16294e65a43630da6146ddf9",
              "IPY_MODEL_d966acd65a614122b5b3368b9ffeb089"
            ],
            "layout": "IPY_MODEL_f31d8d7b12324320be1448a75da65825"
          }
        },
        "092e09a78d6d4fd3abb5f0e2d85b08b7": {
          "model_module": "@jupyter-widgets/controls",
          "model_name": "HTMLModel",
          "model_module_version": "1.5.0",
          "state": {
            "_dom_classes": [],
            "_model_module": "@jupyter-widgets/controls",
            "_model_module_version": "1.5.0",
            "_model_name": "HTMLModel",
            "_view_count": null,
            "_view_module": "@jupyter-widgets/controls",
            "_view_module_version": "1.5.0",
            "_view_name": "HTMLView",
            "description": "",
            "description_tooltip": null,
            "layout": "IPY_MODEL_fc61e1b070a54370b5a61feb5d4bd3b0",
            "placeholder": "​",
            "style": "IPY_MODEL_c25319bc86344ef0b7c3d1c14dfaa2b5",
            "value": "100%"
          }
        },
        "d4f3b1cd16294e65a43630da6146ddf9": {
          "model_module": "@jupyter-widgets/controls",
          "model_name": "FloatProgressModel",
          "model_module_version": "1.5.0",
          "state": {
            "_dom_classes": [],
            "_model_module": "@jupyter-widgets/controls",
            "_model_module_version": "1.5.0",
            "_model_name": "FloatProgressModel",
            "_view_count": null,
            "_view_module": "@jupyter-widgets/controls",
            "_view_module_version": "1.5.0",
            "_view_name": "ProgressView",
            "bar_style": "success",
            "description": "",
            "description_tooltip": null,
            "layout": "IPY_MODEL_d56c64473f704726a95d9e490e936301",
            "max": 102540417,
            "min": 0,
            "orientation": "horizontal",
            "style": "IPY_MODEL_4ba243f342444b019223b7ef08e219a3",
            "value": 102540417
          }
        },
        "d966acd65a614122b5b3368b9ffeb089": {
          "model_module": "@jupyter-widgets/controls",
          "model_name": "HTMLModel",
          "model_module_version": "1.5.0",
          "state": {
            "_dom_classes": [],
            "_model_module": "@jupyter-widgets/controls",
            "_model_module_version": "1.5.0",
            "_model_name": "HTMLModel",
            "_view_count": null,
            "_view_module": "@jupyter-widgets/controls",
            "_view_module_version": "1.5.0",
            "_view_name": "HTMLView",
            "description": "",
            "description_tooltip": null,
            "layout": "IPY_MODEL_ac327d20f8004907bd3976dcc8c2004c",
            "placeholder": "​",
            "style": "IPY_MODEL_45b85262e0f04618a8b41b854eae4cb8",
            "value": " 97.8M/97.8M [00:02&lt;00:00, 41.7MB/s]"
          }
        },
        "f31d8d7b12324320be1448a75da65825": {
          "model_module": "@jupyter-widgets/base",
          "model_name": "LayoutModel",
          "model_module_version": "1.2.0",
          "state": {
            "_model_module": "@jupyter-widgets/base",
            "_model_module_version": "1.2.0",
            "_model_name": "LayoutModel",
            "_view_count": null,
            "_view_module": "@jupyter-widgets/base",
            "_view_module_version": "1.2.0",
            "_view_name": "LayoutView",
            "align_content": null,
            "align_items": null,
            "align_self": null,
            "border": null,
            "bottom": null,
            "display": null,
            "flex": null,
            "flex_flow": null,
            "grid_area": null,
            "grid_auto_columns": null,
            "grid_auto_flow": null,
            "grid_auto_rows": null,
            "grid_column": null,
            "grid_gap": null,
            "grid_row": null,
            "grid_template_areas": null,
            "grid_template_columns": null,
            "grid_template_rows": null,
            "height": null,
            "justify_content": null,
            "justify_items": null,
            "left": null,
            "margin": null,
            "max_height": null,
            "max_width": null,
            "min_height": null,
            "min_width": null,
            "object_fit": null,
            "object_position": null,
            "order": null,
            "overflow": null,
            "overflow_x": null,
            "overflow_y": null,
            "padding": null,
            "right": null,
            "top": null,
            "visibility": null,
            "width": null
          }
        },
        "fc61e1b070a54370b5a61feb5d4bd3b0": {
          "model_module": "@jupyter-widgets/base",
          "model_name": "LayoutModel",
          "model_module_version": "1.2.0",
          "state": {
            "_model_module": "@jupyter-widgets/base",
            "_model_module_version": "1.2.0",
            "_model_name": "LayoutModel",
            "_view_count": null,
            "_view_module": "@jupyter-widgets/base",
            "_view_module_version": "1.2.0",
            "_view_name": "LayoutView",
            "align_content": null,
            "align_items": null,
            "align_self": null,
            "border": null,
            "bottom": null,
            "display": null,
            "flex": null,
            "flex_flow": null,
            "grid_area": null,
            "grid_auto_columns": null,
            "grid_auto_flow": null,
            "grid_auto_rows": null,
            "grid_column": null,
            "grid_gap": null,
            "grid_row": null,
            "grid_template_areas": null,
            "grid_template_columns": null,
            "grid_template_rows": null,
            "height": null,
            "justify_content": null,
            "justify_items": null,
            "left": null,
            "margin": null,
            "max_height": null,
            "max_width": null,
            "min_height": null,
            "min_width": null,
            "object_fit": null,
            "object_position": null,
            "order": null,
            "overflow": null,
            "overflow_x": null,
            "overflow_y": null,
            "padding": null,
            "right": null,
            "top": null,
            "visibility": null,
            "width": null
          }
        },
        "c25319bc86344ef0b7c3d1c14dfaa2b5": {
          "model_module": "@jupyter-widgets/controls",
          "model_name": "DescriptionStyleModel",
          "model_module_version": "1.5.0",
          "state": {
            "_model_module": "@jupyter-widgets/controls",
            "_model_module_version": "1.5.0",
            "_model_name": "DescriptionStyleModel",
            "_view_count": null,
            "_view_module": "@jupyter-widgets/base",
            "_view_module_version": "1.2.0",
            "_view_name": "StyleView",
            "description_width": ""
          }
        },
        "d56c64473f704726a95d9e490e936301": {
          "model_module": "@jupyter-widgets/base",
          "model_name": "LayoutModel",
          "model_module_version": "1.2.0",
          "state": {
            "_model_module": "@jupyter-widgets/base",
            "_model_module_version": "1.2.0",
            "_model_name": "LayoutModel",
            "_view_count": null,
            "_view_module": "@jupyter-widgets/base",
            "_view_module_version": "1.2.0",
            "_view_name": "LayoutView",
            "align_content": null,
            "align_items": null,
            "align_self": null,
            "border": null,
            "bottom": null,
            "display": null,
            "flex": null,
            "flex_flow": null,
            "grid_area": null,
            "grid_auto_columns": null,
            "grid_auto_flow": null,
            "grid_auto_rows": null,
            "grid_column": null,
            "grid_gap": null,
            "grid_row": null,
            "grid_template_areas": null,
            "grid_template_columns": null,
            "grid_template_rows": null,
            "height": null,
            "justify_content": null,
            "justify_items": null,
            "left": null,
            "margin": null,
            "max_height": null,
            "max_width": null,
            "min_height": null,
            "min_width": null,
            "object_fit": null,
            "object_position": null,
            "order": null,
            "overflow": null,
            "overflow_x": null,
            "overflow_y": null,
            "padding": null,
            "right": null,
            "top": null,
            "visibility": null,
            "width": null
          }
        },
        "4ba243f342444b019223b7ef08e219a3": {
          "model_module": "@jupyter-widgets/controls",
          "model_name": "ProgressStyleModel",
          "model_module_version": "1.5.0",
          "state": {
            "_model_module": "@jupyter-widgets/controls",
            "_model_module_version": "1.5.0",
            "_model_name": "ProgressStyleModel",
            "_view_count": null,
            "_view_module": "@jupyter-widgets/base",
            "_view_module_version": "1.2.0",
            "_view_name": "StyleView",
            "bar_color": null,
            "description_width": ""
          }
        },
        "ac327d20f8004907bd3976dcc8c2004c": {
          "model_module": "@jupyter-widgets/base",
          "model_name": "LayoutModel",
          "model_module_version": "1.2.0",
          "state": {
            "_model_module": "@jupyter-widgets/base",
            "_model_module_version": "1.2.0",
            "_model_name": "LayoutModel",
            "_view_count": null,
            "_view_module": "@jupyter-widgets/base",
            "_view_module_version": "1.2.0",
            "_view_name": "LayoutView",
            "align_content": null,
            "align_items": null,
            "align_self": null,
            "border": null,
            "bottom": null,
            "display": null,
            "flex": null,
            "flex_flow": null,
            "grid_area": null,
            "grid_auto_columns": null,
            "grid_auto_flow": null,
            "grid_auto_rows": null,
            "grid_column": null,
            "grid_gap": null,
            "grid_row": null,
            "grid_template_areas": null,
            "grid_template_columns": null,
            "grid_template_rows": null,
            "height": null,
            "justify_content": null,
            "justify_items": null,
            "left": null,
            "margin": null,
            "max_height": null,
            "max_width": null,
            "min_height": null,
            "min_width": null,
            "object_fit": null,
            "object_position": null,
            "order": null,
            "overflow": null,
            "overflow_x": null,
            "overflow_y": null,
            "padding": null,
            "right": null,
            "top": null,
            "visibility": null,
            "width": null
          }
        },
        "45b85262e0f04618a8b41b854eae4cb8": {
          "model_module": "@jupyter-widgets/controls",
          "model_name": "DescriptionStyleModel",
          "model_module_version": "1.5.0",
          "state": {
            "_model_module": "@jupyter-widgets/controls",
            "_model_module_version": "1.5.0",
            "_model_name": "DescriptionStyleModel",
            "_view_count": null,
            "_view_module": "@jupyter-widgets/base",
            "_view_module_version": "1.2.0",
            "_view_name": "StyleView",
            "description_width": ""
          }
        }
      }
    }
  },
  "cells": [
    {
      "cell_type": "code",
      "execution_count": 1,
      "metadata": {
        "id": "5hFUGFMDb6dB"
      },
      "outputs": [],
      "source": [
        "%matplotlib inline\n",
        "\n",
        "import matplotlib.pyplot as plt\n",
        "import numpy as np\n",
        "import pickle\n",
        "import time\n",
        "import torch\n",
        "from torch import nn\n",
        "import torch.nn.functional as F\n",
        "from torchsummary import summary\n",
        "from torchvision import transforms, datasets, models"
      ]
    },
    {
      "cell_type": "code",
      "source": [
        "PATH = './data/'\n",
        "RANDOM_STATE = 29"
      ],
      "metadata": {
        "id": "ZkCGVlFlcEIS"
      },
      "execution_count": 2,
      "outputs": []
    },
    {
      "cell_type": "code",
      "source": [
        "def load_data(transform_train=transforms.ToTensor(), transform_test=transforms.ToTensor(), \n",
        "              download=True, verbose=True):\n",
        "    \n",
        "    train_dataset = datasets.CIFAR100(root=PATH,\n",
        "                                      transform=transform_train,\n",
        "                                      download=download)\n",
        "\n",
        "    test_dataset = datasets.CIFAR100(root=PATH,\n",
        "                                     train=False,\n",
        "                                     transform=transform_test,\n",
        "                                     download=download)\n",
        "    \n",
        "    if verbose:\n",
        "        print(f'Размер тренировочного датасета:\\t{len(train_dataset)}')\n",
        "        print(f'Размер тестового датасета:\\t{len(test_dataset)}')\n",
        "    \n",
        "    torch.random.manual_seed(RANDOM_STATE)\n",
        "\n",
        "    train_loader = torch.utils.data.DataLoader(train_dataset,\n",
        "                                               batch_size=128,\n",
        "                                               shuffle=True)\n",
        "\n",
        "    test_loader = torch.utils.data.DataLoader(test_dataset,\n",
        "                                              batch_size=128,\n",
        "                                              shuffle=False)\n",
        "    \n",
        "    return train_loader, test_loader"
      ],
      "metadata": {
        "id": "CzS7BJgRcEPY"
      },
      "execution_count": 3,
      "outputs": []
    },
    {
      "cell_type": "code",
      "source": [
        "aug_transformers_ = transforms.Compose([\n",
        "    transforms.RandomHorizontalFlip(),\n",
        "    transforms.ColorJitter(brightness=0.2, contrast=0.2, saturation=0.2, hue=0.1),\n",
        "])\n",
        "\n",
        "aug_transformers = transforms.Compose([\n",
        "    aug_transformers_,\n",
        "    transforms.ToTensor()\n",
        "])"
      ],
      "metadata": {
        "id": "DHIpi5UFcESb"
      },
      "execution_count": 4,
      "outputs": []
    },
    {
      "cell_type": "code",
      "source": [
        "train_loader, test_loader = load_data(transform_train=aug_transformers)"
      ],
      "metadata": {
        "colab": {
          "base_uri": "https://localhost:8080/",
          "height": 143,
          "referenced_widgets": [
            "1f2240acab70423da5987d6722ae994f",
            "cbfd1977622846abb975ed68923092c3",
            "8cf8bb76250b490f8334ec07ff2ec1e8",
            "f610e69e7e404d3988c612a90aab6a36",
            "df9671f60be1456fba90e2b471bcafed",
            "086e43d6f8f24dd4972097637f48a975",
            "217e549620e24d4e814e338d9da6b36b",
            "5cfa9d26d06143df961bc08260518085",
            "592d14933d6447bd9e115ffffb5287f0",
            "ca7019810a074a0db3c38c12f3978f39",
            "6f26f1d3656e41d6928c881b5bb12bbd"
          ]
        },
        "id": "Gd7icR9DcEWV",
        "outputId": "58d84918-2900-4bcb-e515-39d0761a408f"
      },
      "execution_count": 5,
      "outputs": [
        {
          "output_type": "stream",
          "name": "stdout",
          "text": [
            "Downloading https://www.cs.toronto.edu/~kriz/cifar-100-python.tar.gz to ./data/cifar-100-python.tar.gz\n"
          ]
        },
        {
          "output_type": "display_data",
          "data": {
            "text/plain": [
              "  0%|          | 0/169001437 [00:00<?, ?it/s]"
            ],
            "application/vnd.jupyter.widget-view+json": {
              "version_major": 2,
              "version_minor": 0,
              "model_id": "1f2240acab70423da5987d6722ae994f"
            }
          },
          "metadata": {}
        },
        {
          "output_type": "stream",
          "name": "stdout",
          "text": [
            "Extracting ./data/cifar-100-python.tar.gz to ./data/\n",
            "Files already downloaded and verified\n",
            "Размер тренировочного датасета:\t50000\n",
            "Размер тестового датасета:\t10000\n"
          ]
        }
      ]
    },
    {
      "cell_type": "code",
      "source": [
        "classes = ['beaver', 'dolphin', 'otter', 'seal', 'whale', 'aquarium fish', 'flatfish', \n",
        "           'ray', 'shark', 'trout', 'orchids', 'poppies', 'roses', 'sunflowers',\n",
        "           'tulips', 'bottles', 'bowls', 'cans', 'cups', 'plates', 'apples',\n",
        "           'mushrooms', 'oranges', 'pears', 'sweet peppers', 'clock',\n",
        "           'computer keyboard', 'lamp', 'telephone', 'television', 'bed',  \n",
        "           'chair', 'couch', 'table', 'wardrobe', 'bee',  'beetle',  'butterfly',\n",
        "           'caterpillar', 'cockroach', 'bear', 'leopard', 'lion', 'tiger', 'wolf',\n",
        "           'bridge', 'castle', 'house', 'road', 'skyscraper', 'cloud', 'forest', \n",
        "           'mountain', 'plain', 'sea', 'camel', 'cattle', 'chimpanzee', 'elephant', \n",
        "           'kangaroo', 'fox', 'porcupine', 'possum', 'raccoon', 'skunk', 'crab',\n",
        "           'lobster', 'snail', 'spider', 'worm', 'baby', 'boy', 'girl', 'man', \n",
        "           'woman', 'crocodile', 'dinosaur', 'lizard', 'snake', 'turtle', 'hamster', \n",
        "           'mouse', 'rabbit', 'shrew', 'squirrel', 'maple', 'oak', 'palm', 'pine',\n",
        "           'willow', 'bicycle', 'bus', 'motorcycle', 'pickup truck', 'train', \n",
        "           'lawn-mower',  'rocket',  'streetcar',  'tank',  'tractor']"
      ],
      "metadata": {
        "id": "mHUaR-5Mcodq"
      },
      "execution_count": 6,
      "outputs": []
    },
    {
      "cell_type": "code",
      "source": [
        "device = 'cuda' if torch.cuda.is_available() else 'cpu'\n",
        "device"
      ],
      "metadata": {
        "colab": {
          "base_uri": "https://localhost:8080/",
          "height": 36
        },
        "id": "TtsPSgVTcah-",
        "outputId": "7004af5c-ea84-48aa-8ca9-076403a12697"
      },
      "execution_count": 7,
      "outputs": [
        {
          "output_type": "execute_result",
          "data": {
            "text/plain": [
              "'cuda'"
            ],
            "application/vnd.google.colaboratory.intrinsic+json": {
              "type": "string"
            }
          },
          "metadata": {},
          "execution_count": 7
        }
      ]
    },
    {
      "cell_type": "code",
      "source": [
        "image_size = next(iter(train_loader))[0][0].shape\n",
        "image_size"
      ],
      "metadata": {
        "colab": {
          "base_uri": "https://localhost:8080/"
        },
        "id": "J8-ChhKUcalW",
        "outputId": "24c8a5e1-7f8b-41c4-aa3e-6c7789ad6ef7"
      },
      "execution_count": 8,
      "outputs": [
        {
          "output_type": "execute_result",
          "data": {
            "text/plain": [
              "torch.Size([3, 32, 32])"
            ]
          },
          "metadata": {},
          "execution_count": 8
        }
      ]
    },
    {
      "cell_type": "code",
      "source": [
        "class MyNet(nn.Module):\n",
        "    def __init__(self):\n",
        "        super().__init__()\n",
        "        torch.random.manual_seed(RANDOM_STATE)\n",
        "        \n",
        "        self.conv1 = nn.Conv2d(image_size[0], 32, 3, padding=1) \n",
        "        self.maxpool = nn.MaxPool2d(2) \n",
        "        self.bn1 = nn.BatchNorm2d(32, track_running_stats=False)\n",
        "        self.dp = nn.Dropout(0.25)\n",
        "        self.dp2d = nn.Dropout2d(0.25)\n",
        "    \n",
        "        self.conv2 = nn.Conv2d(32, 64, 3, padding=1) \n",
        "        self.bn2 = nn.BatchNorm2d(64, track_running_stats=False)\n",
        "        \n",
        "        self.conv3 = nn.Conv2d(64, 128, 3, padding=1) \n",
        "        self.bn3 = nn.BatchNorm2d(128, track_running_stats=False)\n",
        "    \n",
        "        self.flatten = nn.Flatten()\n",
        "        self.fc1 = nn.Linear(128*4*4, 512)\n",
        "        self.bn4 = nn.BatchNorm1d(512, track_running_stats=False)\n",
        "        \n",
        "        self.fc2 = nn.Linear(512, len(classes))\n",
        "        \n",
        "    def forward(self, x):\n",
        "        \n",
        "        # Свёрточные слои\n",
        "        x = self.conv1(x) # 3x32x32 -> 32x32x32\n",
        "        x = self.maxpool(x) # 32x32x32 -> 32x16x16\n",
        "        # x = self.dp2d(x)\n",
        "        x = self.bn1(x)\n",
        "        x = F.relu(x)\n",
        "        \n",
        "        x = self.conv2(x) # 32x16x16 -> 64x16x16\n",
        "        x = self.maxpool(x) # 64x16x16 -> 64x8x8\n",
        "        x = self.dp2d(x)\n",
        "        x = self.bn2(x)\n",
        "        x = F.relu(x)\n",
        "        \n",
        "        x = self.conv3(x) # 64x8x8 -> 128x8x8\n",
        "        x = self.maxpool(x) # 128x8x8 -> 128x4x4\n",
        "        # x = self.dp2d(x)\n",
        "        x = self.bn3(x)\n",
        "        x = F.relu(x)\n",
        "        \n",
        "        # Полносвязные слои\n",
        "        x = self.flatten(x) # 128x4x4 -> 128*4*4\n",
        "        x = self.fc1(x)\n",
        "        x = self.dp(x)\n",
        "        x = self.bn4(x)\n",
        "        x = F.relu(x)\n",
        "        \n",
        "        x = self.fc2(x)\n",
        "        return x\n",
        "    \n",
        "    def predict(self, x):\n",
        "        x = self.forward(x)\n",
        "        x = F.softmax(x, dim=1)\n",
        "        return x"
      ],
      "metadata": {
        "id": "5wn54DWpcapB"
      },
      "execution_count": 9,
      "outputs": []
    },
    {
      "cell_type": "code",
      "source": [
        "summary(MyNet().to(device), input_size=image_size)"
      ],
      "metadata": {
        "colab": {
          "base_uri": "https://localhost:8080/"
        },
        "id": "Vn-umc1EcvFY",
        "outputId": "2db703eb-df43-4a0a-acbf-4c195dceb107"
      },
      "execution_count": 10,
      "outputs": [
        {
          "output_type": "stream",
          "name": "stdout",
          "text": [
            "----------------------------------------------------------------\n",
            "        Layer (type)               Output Shape         Param #\n",
            "================================================================\n",
            "            Conv2d-1           [-1, 32, 32, 32]             896\n",
            "         MaxPool2d-2           [-1, 32, 16, 16]               0\n",
            "       BatchNorm2d-3           [-1, 32, 16, 16]              64\n",
            "            Conv2d-4           [-1, 64, 16, 16]          18,496\n",
            "         MaxPool2d-5             [-1, 64, 8, 8]               0\n",
            "         Dropout2d-6             [-1, 64, 8, 8]               0\n",
            "       BatchNorm2d-7             [-1, 64, 8, 8]             128\n",
            "            Conv2d-8            [-1, 128, 8, 8]          73,856\n",
            "         MaxPool2d-9            [-1, 128, 4, 4]               0\n",
            "      BatchNorm2d-10            [-1, 128, 4, 4]             256\n",
            "          Flatten-11                 [-1, 2048]               0\n",
            "           Linear-12                  [-1, 512]       1,049,088\n",
            "          Dropout-13                  [-1, 512]               0\n",
            "      BatchNorm1d-14                  [-1, 512]           1,024\n",
            "           Linear-15                  [-1, 100]          51,300\n",
            "================================================================\n",
            "Total params: 1,195,108\n",
            "Trainable params: 1,195,108\n",
            "Non-trainable params: 0\n",
            "----------------------------------------------------------------\n",
            "Input size (MB): 0.01\n",
            "Forward/backward pass size (MB): 0.72\n",
            "Params size (MB): 4.56\n",
            "Estimated Total Size (MB): 5.29\n",
            "----------------------------------------------------------------\n"
          ]
        }
      ]
    },
    {
      "cell_type": "code",
      "source": [
        "def train_nn(net, train_loader, test_loader, lr=1e-3, epochs=5, verbose=True, parameters=None):\n",
        "\n",
        "    torch.backends.cudnn.deterministic = True\n",
        "    criterion = nn.CrossEntropyLoss()\n",
        "    if parameters is None:\n",
        "        parameters = net.parameters()\n",
        "    optimizer = torch.optim.Adam(parameters, lr=lr)\n",
        "    \n",
        "    metrics_train_global = np.array([])\n",
        "    metrics_test_global = np.array([])\n",
        "\n",
        "    for epoch in range(epochs):\n",
        "        start_time = time.time()\n",
        "        metrics_train = np.array([])\n",
        "        metrics_test = np.array([])\n",
        "        losses_train = np.array([])\n",
        "        losses_test = np.array([])\n",
        "\n",
        "        for i, data in enumerate(train_loader):\n",
        "            net.train()\n",
        "            inputs, labels = data[0].to(device), data[1].to(device)\n",
        "\n",
        "            optimizer.zero_grad()\n",
        "\n",
        "            outputs = net(inputs)\n",
        "            loss = criterion(outputs, labels)\n",
        "            loss.backward()\n",
        "            optimizer.step()\n",
        "            \n",
        "            losses_train = np.append(losses_train, loss.item())\n",
        "            net.eval()\n",
        "            metrics_train = np.append(metrics_train, (labels == outputs.argmax(axis=1)).sum().cpu() / len(labels))\n",
        "        \n",
        "        with torch.no_grad():\n",
        "            for i, data in enumerate(test_loader):\n",
        "                inputs, labels = data[0].to(device), data[1].to(device)\n",
        "                outputs = net(inputs)\n",
        "                loss = criterion(outputs, labels)\n",
        "                losses_test = np.append(losses_test, loss.item())\n",
        "                metrics_test = np.append(metrics_test, (labels == outputs.argmax(axis=1)).sum().cpu() / len(labels))    \n",
        "        \n",
        "        if verbose:\n",
        "            print(f'Epoch [{epoch + 1}/{epochs}]. ' \\\n",
        "                  f'Train loss: {losses_train.mean():.4f}. '\\\n",
        "                  f'Test loss: {losses_test.mean():.4f}. '\\\n",
        "                  f'Train accuracy: {metrics_train.mean():.4f}. '\\\n",
        "                  f'Test accuracy: {metrics_test.mean():.4f}. '\n",
        "                  f'Time: {int(time.time() - start_time)} s')\n",
        "        \n",
        "        metrics_train_global = np.append(metrics_train_global, metrics_train.mean())\n",
        "        metrics_test_global = np.append(metrics_test_global, metrics_test.mean())\n",
        "    print('Training is finished!')\n",
        "    return metrics_train_global, metrics_test_global"
      ],
      "metadata": {
        "id": "LJYLvsu8cvI_"
      },
      "execution_count": 11,
      "outputs": []
    },
    {
      "cell_type": "code",
      "source": [
        "mynet = MyNet().to(device)\n",
        "mynet_train, mynet_test = train_nn(mynet, train_loader, test_loader, epochs=20)"
      ],
      "metadata": {
        "colab": {
          "base_uri": "https://localhost:8080/"
        },
        "id": "6qtQzLUbcvMI",
        "outputId": "9b2c310e-f89e-40f2-c996-0898e58173af"
      },
      "execution_count": 12,
      "outputs": [
        {
          "output_type": "stream",
          "name": "stdout",
          "text": [
            "Epoch [1/20]. Train loss: 3.4908. Test loss: 2.7407. Train accuracy: 0.1802. Test accuracy: 0.3128. Time: 37 s\n",
            "Epoch [2/20]. Train loss: 2.6911. Test loss: 2.2925. Train accuracy: 0.3233. Test accuracy: 0.4027. Time: 37 s\n",
            "Epoch [3/20]. Train loss: 2.3664. Test loss: 2.1174. Train accuracy: 0.3876. Test accuracy: 0.4480. Time: 37 s\n",
            "Epoch [4/20]. Train loss: 2.1604. Test loss: 2.0218. Train accuracy: 0.4330. Test accuracy: 0.4672. Time: 36 s\n",
            "Epoch [5/20]. Train loss: 2.0097. Test loss: 1.9527. Train accuracy: 0.4677. Test accuracy: 0.4844. Time: 37 s\n",
            "Epoch [6/20]. Train loss: 1.8951. Test loss: 1.8994. Train accuracy: 0.4933. Test accuracy: 0.5010. Time: 36 s\n",
            "Epoch [7/20]. Train loss: 1.8054. Test loss: 1.8557. Train accuracy: 0.5148. Test accuracy: 0.5202. Time: 36 s\n",
            "Epoch [8/20]. Train loss: 1.7046. Test loss: 1.8368. Train accuracy: 0.5365. Test accuracy: 0.5217. Time: 36 s\n",
            "Epoch [9/20]. Train loss: 1.6215. Test loss: 1.8229. Train accuracy: 0.5551. Test accuracy: 0.5303. Time: 36 s\n",
            "Epoch [10/20]. Train loss: 1.5477. Test loss: 1.8162. Train accuracy: 0.5708. Test accuracy: 0.5296. Time: 36 s\n",
            "Epoch [11/20]. Train loss: 1.5035. Test loss: 1.8140. Train accuracy: 0.5826. Test accuracy: 0.5383. Time: 36 s\n",
            "Epoch [12/20]. Train loss: 1.4444. Test loss: 1.8225. Train accuracy: 0.5964. Test accuracy: 0.5402. Time: 36 s\n",
            "Epoch [13/20]. Train loss: 1.3921. Test loss: 1.8301. Train accuracy: 0.6110. Test accuracy: 0.5399. Time: 36 s\n",
            "Epoch [14/20]. Train loss: 1.3366. Test loss: 1.8472. Train accuracy: 0.6226. Test accuracy: 0.5426. Time: 36 s\n",
            "Epoch [15/20]. Train loss: 1.2966. Test loss: 1.8301. Train accuracy: 0.6325. Test accuracy: 0.5460. Time: 36 s\n",
            "Epoch [16/20]. Train loss: 1.2539. Test loss: 1.8666. Train accuracy: 0.6461. Test accuracy: 0.5467. Time: 36 s\n",
            "Epoch [17/20]. Train loss: 1.2159. Test loss: 1.8703. Train accuracy: 0.6493. Test accuracy: 0.5478. Time: 37 s\n",
            "Epoch [18/20]. Train loss: 1.1862. Test loss: 1.8921. Train accuracy: 0.6583. Test accuracy: 0.5503. Time: 36 s\n",
            "Epoch [19/20]. Train loss: 1.1415. Test loss: 1.9222. Train accuracy: 0.6703. Test accuracy: 0.5477. Time: 36 s\n",
            "Epoch [20/20]. Train loss: 1.1127. Test loss: 1.9326. Train accuracy: 0.6787. Test accuracy: 0.5451. Time: 36 s\n",
            "Training is finished!\n"
          ]
        }
      ]
    },
    {
      "cell_type": "code",
      "source": [
        "resnet_transformer = transforms.Compose([\n",
        "    transforms.Resize((224, 224)),\n",
        "    transforms.ToTensor()\n",
        "])"
      ],
      "metadata": {
        "id": "iyKKpiLzcvOs"
      },
      "execution_count": 13,
      "outputs": []
    },
    {
      "cell_type": "code",
      "source": [
        "resnet_aug_transformer = transforms.Compose([\n",
        "    aug_transformers_,\n",
        "    resnet_transformer\n",
        "])"
      ],
      "metadata": {
        "id": "YeAltcwXcvRC"
      },
      "execution_count": 14,
      "outputs": []
    },
    {
      "cell_type": "code",
      "source": [
        "def train_resnet(transformer_train, epochs=5, verbose=1):\n",
        "    resnet50 = models.resnet50(weights=models.ResNet50_Weights.DEFAULT)\n",
        "    \n",
        "    for param in resnet50.parameters():\n",
        "        param.requires_grad = False\n",
        "        \n",
        "    resnet_train_loader, resnet_test_loader = load_data(transform_train=transformer_train, \n",
        "                                                        transform_test=resnet_transformer,\n",
        "                                                        download=False, verbose=False)\n",
        "    \n",
        "    torch.random.manual_seed(RANDOM_STATE)\n",
        "    resnet50.fc = nn.Linear(2048, 100)\n",
        "\n",
        "    params_to_update = []\n",
        "    for param in resnet50.parameters():\n",
        "        if param.requires_grad == True:\n",
        "            params_to_update.append(param)\n",
        "    \n",
        "    resnet50 = resnet50.to(device)\n",
        "    resnet_train, resnet_test = train_nn(resnet50, resnet_train_loader, resnet_test_loader, \n",
        "                                         epochs=epochs, verbose=verbose, parameters=params_to_update)\n",
        "    return resnet50, resnet_train, resnet_test"
      ],
      "metadata": {
        "id": "_cb0c6OFcvTa"
      },
      "execution_count": 20,
      "outputs": []
    },
    {
      "cell_type": "code",
      "source": [
        "resnet50, resnet_train, resnet_test = train_resnet(resnet_transformer, epochs=20)"
      ],
      "metadata": {
        "colab": {
          "base_uri": "https://localhost:8080/",
          "height": 464,
          "referenced_widgets": [
            "6ab7acdd9b9e4fde8476d78f4737c3b8",
            "092e09a78d6d4fd3abb5f0e2d85b08b7",
            "d4f3b1cd16294e65a43630da6146ddf9",
            "d966acd65a614122b5b3368b9ffeb089",
            "f31d8d7b12324320be1448a75da65825",
            "fc61e1b070a54370b5a61feb5d4bd3b0",
            "c25319bc86344ef0b7c3d1c14dfaa2b5",
            "d56c64473f704726a95d9e490e936301",
            "4ba243f342444b019223b7ef08e219a3",
            "ac327d20f8004907bd3976dcc8c2004c",
            "45b85262e0f04618a8b41b854eae4cb8"
          ]
        },
        "id": "g5N1xmlNdHCe",
        "outputId": "3345985a-60fa-4958-a9db-5790f983f612"
      },
      "execution_count": 21,
      "outputs": [
        {
          "output_type": "stream",
          "name": "stderr",
          "text": [
            "Downloading: \"https://download.pytorch.org/models/resnet50-11ad3fa6.pth\" to /root/.cache/torch/hub/checkpoints/resnet50-11ad3fa6.pth\n"
          ]
        },
        {
          "output_type": "display_data",
          "data": {
            "text/plain": [
              "  0%|          | 0.00/97.8M [00:00<?, ?B/s]"
            ],
            "application/vnd.jupyter.widget-view+json": {
              "version_major": 2,
              "version_minor": 0,
              "model_id": "6ab7acdd9b9e4fde8476d78f4737c3b8"
            }
          },
          "metadata": {}
        },
        {
          "output_type": "stream",
          "name": "stdout",
          "text": [
            "Epoch [1/20]. Train loss: 2.5938. Test loss: 1.9313. Train accuracy: 0.4165. Test accuracy: 0.5254. Time: 269 s\n",
            "Epoch [2/20]. Train loss: 1.6756. Test loss: 1.6810. Train accuracy: 0.5764. Test accuracy: 0.5638. Time: 268 s\n",
            "Epoch [3/20]. Train loss: 1.4175. Test loss: 1.5882. Train accuracy: 0.6312. Test accuracy: 0.5783. Time: 267 s\n",
            "Epoch [4/20]. Train loss: 1.2683. Test loss: 1.5232. Train accuracy: 0.6652. Test accuracy: 0.5895. Time: 267 s\n",
            "Epoch [5/20]. Train loss: 1.1544. Test loss: 1.4843. Train accuracy: 0.6946. Test accuracy: 0.6001. Time: 267 s\n",
            "Epoch [6/20]. Train loss: 1.0654. Test loss: 1.4691. Train accuracy: 0.7171. Test accuracy: 0.6010. Time: 267 s\n",
            "Epoch [7/20]. Train loss: 0.9915. Test loss: 1.4597. Train accuracy: 0.7381. Test accuracy: 0.6058. Time: 267 s\n",
            "Epoch [8/20]. Train loss: 0.9309. Test loss: 1.4600. Train accuracy: 0.7532. Test accuracy: 0.6037. Time: 267 s\n",
            "Epoch [9/20]. Train loss: 0.8767. Test loss: 1.4456. Train accuracy: 0.7687. Test accuracy: 0.6047. Time: 267 s\n",
            "Epoch [10/20]. Train loss: 0.8308. Test loss: 1.4518. Train accuracy: 0.7815. Test accuracy: 0.6074. Time: 267 s\n",
            "Epoch [11/20]. Train loss: 0.7832. Test loss: 1.4567. Train accuracy: 0.7978. Test accuracy: 0.6054. Time: 267 s\n",
            "Epoch [12/20]. Train loss: 0.7476. Test loss: 1.4448. Train accuracy: 0.8051. Test accuracy: 0.6077. Time: 267 s\n",
            "Epoch [13/20]. Train loss: 0.7130. Test loss: 1.4487. Train accuracy: 0.8161. Test accuracy: 0.6080. Time: 267 s\n",
            "Epoch [14/20]. Train loss: 0.6785. Test loss: 1.4637. Train accuracy: 0.8255. Test accuracy: 0.6078. Time: 267 s\n",
            "Epoch [15/20]. Train loss: 0.6514. Test loss: 1.4742. Train accuracy: 0.8337. Test accuracy: 0.6053. Time: 267 s\n",
            "Epoch [16/20]. Train loss: 0.6244. Test loss: 1.4864. Train accuracy: 0.8388. Test accuracy: 0.6030. Time: 267 s\n",
            "Epoch [17/20]. Train loss: 0.6002. Test loss: 1.4934. Train accuracy: 0.8490. Test accuracy: 0.6043. Time: 267 s\n",
            "Epoch [18/20]. Train loss: 0.5752. Test loss: 1.4939. Train accuracy: 0.8558. Test accuracy: 0.6053. Time: 267 s\n",
            "Epoch [19/20]. Train loss: 0.5548. Test loss: 1.5078. Train accuracy: 0.8620. Test accuracy: 0.6020. Time: 267 s\n",
            "Epoch [20/20]. Train loss: 0.5371. Test loss: 1.5166. Train accuracy: 0.8657. Test accuracy: 0.6029. Time: 267 s\n",
            "Training is finished!\n"
          ]
        }
      ]
    },
    {
      "cell_type": "code",
      "source": [
        "resnet50_aug, resnet_aug_train, resnet_aug_test = train_resnet(resnet_aug_transformer, epochs=20)"
      ],
      "metadata": {
        "colab": {
          "base_uri": "https://localhost:8080/"
        },
        "id": "DCst_ZT_dHFR",
        "outputId": "3d1c5a0c-d99e-4ab7-bb68-ef5ab07ef84c"
      },
      "execution_count": 22,
      "outputs": [
        {
          "output_type": "stream",
          "name": "stdout",
          "text": [
            "Epoch [1/20]. Train loss: 2.8360. Test loss: 2.0525. Train accuracy: 0.3620. Test accuracy: 0.5068. Time: 293 s\n",
            "Epoch [2/20]. Train loss: 2.0108. Test loss: 1.7701. Train accuracy: 0.4949. Test accuracy: 0.5489. Time: 292 s\n",
            "Epoch [3/20]. Train loss: 1.7872. Test loss: 1.6509. Train accuracy: 0.5374. Test accuracy: 0.5720. Time: 292 s\n",
            "Epoch [4/20]. Train loss: 1.6631. Test loss: 1.5672. Train accuracy: 0.5614. Test accuracy: 0.5854. Time: 292 s\n",
            "Epoch [5/20]. Train loss: 1.5796. Test loss: 1.5358. Train accuracy: 0.5794. Test accuracy: 0.5935. Time: 292 s\n",
            "Epoch [6/20]. Train loss: 1.5217. Test loss: 1.4970. Train accuracy: 0.5930. Test accuracy: 0.5983. Time: 292 s\n",
            "Epoch [7/20]. Train loss: 1.4782. Test loss: 1.4747. Train accuracy: 0.6004. Test accuracy: 0.6032. Time: 292 s\n",
            "Epoch [8/20]. Train loss: 1.4290. Test loss: 1.4804. Train accuracy: 0.6101. Test accuracy: 0.5988. Time: 292 s\n",
            "Epoch [9/20]. Train loss: 1.3972. Test loss: 1.4507. Train accuracy: 0.6189. Test accuracy: 0.6057. Time: 292 s\n",
            "Epoch [10/20]. Train loss: 1.3677. Test loss: 1.4349. Train accuracy: 0.6265. Test accuracy: 0.6095. Time: 292 s\n",
            "Epoch [11/20]. Train loss: 1.3450. Test loss: 1.4291. Train accuracy: 0.6324. Test accuracy: 0.6099. Time: 292 s\n",
            "Epoch [12/20]. Train loss: 1.3226. Test loss: 1.4250. Train accuracy: 0.6368. Test accuracy: 0.6113. Time: 291 s\n",
            "Epoch [13/20]. Train loss: 1.3060. Test loss: 1.4203. Train accuracy: 0.6408. Test accuracy: 0.6115. Time: 292 s\n",
            "Epoch [14/20]. Train loss: 1.2815. Test loss: 1.4169. Train accuracy: 0.6449. Test accuracy: 0.6157. Time: 292 s\n",
            "Epoch [15/20]. Train loss: 1.2770. Test loss: 1.4022. Train accuracy: 0.6457. Test accuracy: 0.6191. Time: 292 s\n",
            "Epoch [16/20]. Train loss: 1.2549. Test loss: 1.4178. Train accuracy: 0.6516. Test accuracy: 0.6132. Time: 292 s\n",
            "Epoch [17/20]. Train loss: 1.2400. Test loss: 1.4117. Train accuracy: 0.6567. Test accuracy: 0.6137. Time: 291 s\n",
            "Epoch [18/20]. Train loss: 1.2270. Test loss: 1.4127. Train accuracy: 0.6576. Test accuracy: 0.6140. Time: 292 s\n",
            "Epoch [19/20]. Train loss: 1.2134. Test loss: 1.4145. Train accuracy: 0.6589. Test accuracy: 0.6138. Time: 292 s\n",
            "Epoch [20/20]. Train loss: 1.2067. Test loss: 1.4145. Train accuracy: 0.6629. Test accuracy: 0.6126. Time: 292 s\n",
            "Training is finished!\n"
          ]
        }
      ]
    },
    {
      "cell_type": "code",
      "source": [
        "plt.figure(figsize=(16, 5))\n",
        "plt.rcParams.update({'font.size': 14})\n",
        "\n",
        "plt.subplot(1, 3, 1)\n",
        "plt.plot(range(len(mynet_train)), mynet_train, label='Train')\n",
        "plt.plot(range(len(mynet_test)), mynet_test, label='Test')\n",
        "plt.title('My model')\n",
        "plt.ylabel('Accuracy')\n",
        "plt.xlabel('Epochs')\n",
        "plt.ylim([0, 1])\n",
        "plt.grid()\n",
        "plt.legend()\n",
        "\n",
        "plt.subplot(1, 3, 2)\n",
        "plt.plot(range(len(resnet_train)), resnet_train, label='Train')\n",
        "plt.plot(range(len(resnet_test)), resnet_test, label='Test')\n",
        "plt.title('Resnet50')\n",
        "plt.xlabel('Epochs')\n",
        "plt.ylim([0, 1])\n",
        "plt.grid()\n",
        "plt.legend()\n",
        "\n",
        "plt.subplot(1, 3, 3)\n",
        "plt.plot(range(len(resnet_aug_train)), resnet_aug_train, label='Train')\n",
        "plt.plot(range(len(resnet_aug_test)), resnet_aug_test, label='Test')\n",
        "plt.title('Resnet50 w/ augmentations')\n",
        "plt.xlabel('Epochs')\n",
        "plt.ylim([0, 1])\n",
        "plt.grid()\n",
        "plt.legend()\n",
        "\n",
        "plt.show()"
      ],
      "metadata": {
        "colab": {
          "base_uri": "https://localhost:8080/",
          "height": 362
        },
        "id": "AC205QuxdHH3",
        "outputId": "ae87cd74-e319-4851-d1ab-9a7ab56607ba"
      },
      "execution_count": 23,
      "outputs": [
        {
          "output_type": "display_data",
          "data": {
            "text/plain": [
              "<Figure size 1152x360 with 3 Axes>"
            ],
            "image/png": "[encoded data removed]"
          },
          "metadata": {
            "needs_background": "light"
          }
        }
      ]
    },
    {
      "cell_type": "code",
      "source": [
        "plt.figure(figsize=(8, 4))\n",
        "plt.plot(range(len(mynet_test)), mynet_test, label='My model')\n",
        "plt.plot(range(len(resnet_test)), resnet_test, label='Resnet50')\n",
        "plt.plot(range(len(resnet_aug_test)), resnet_aug_test, label='Resnet50 w/ aug')\n",
        "plt.title('График Accuracy различных моделей')\n",
        "plt.xlabel('Epochs')\n",
        "plt.ylabel('Accuracy')\n",
        "plt.ylim([0, 1])\n",
        "plt.grid()\n",
        "plt.legend()\n",
        "plt.show()"
      ],
      "metadata": {
        "colab": {
          "base_uri": "https://localhost:8080/",
          "height": 307
        },
        "id": "q-mLB3Z4d_tD",
        "outputId": "a6facef4-5397-4792-c052-b7cefcfc15b4"
      },
      "execution_count": 24,
      "outputs": [
        {
          "output_type": "display_data",
          "data": {
            "text/plain": [
              "<Figure size 576x288 with 1 Axes>"
            ],
            "image/png": "[encoded data removed]"
          },
          "metadata": {
            "needs_background": "light"
          }
        }
      ]
    },
    {
      "cell_type": "markdown",
      "source": [],
      "metadata": {
        "id": "e_FVE4PlN3il"
      }
    }
  ]
}